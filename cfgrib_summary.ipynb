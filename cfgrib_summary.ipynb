{
 "cells": [
  {
   "cell_type": "code",
   "execution_count": null,
   "id": "initial_id",
   "metadata": {
    "collapsed": true
   },
   "outputs": [],
   "source": [
    "!pip install eccodes\n",
    "!pip install install cfgrib\n",
    "!pip install xarray"
   ]
  },
  {
   "cell_type": "code",
   "outputs": [
    {
     "name": "stdout",
     "output_type": "stream",
     "text": [
      "<xarray.Dataset>\n",
      "Dimensions:        (step: 20, isobaricInhPa: 25, latitude: 101, longitude: 91)\n",
      "Coordinates:\n",
      "    number         int64 ...\n",
      "    time           datetime64[ns] ...\n",
      "  * step           (step) timedelta64[ns] 0 days 00:00:00 ... 2 days 09:00:00\n",
      "  * isobaricInhPa  (isobaricInhPa) float64 1e+03 950.0 925.0 ... 3.0 2.0 1.0\n",
      "  * latitude       (latitude) float64 40.0 39.9 39.8 39.7 ... 30.2 30.1 30.0\n",
      "  * longitude      (longitude) float64 123.0 123.1 123.2 ... 131.8 131.9 132.0\n",
      "    valid_time     (step) datetime64[ns] ...\n",
      "Data variables:\n",
      "    z              (step, isobaricInhPa, latitude, longitude) float32 ...\n",
      "    t              (step, isobaricInhPa, latitude, longitude) float32 ...\n",
      "    q              (step, isobaricInhPa, latitude, longitude) float32 ...\n",
      "    w              (step, isobaricInhPa, latitude, longitude) float32 ...\n",
      "    d              (step, isobaricInhPa, latitude, longitude) float32 ...\n",
      "    r              (step, isobaricInhPa, latitude, longitude) float32 ...\n",
      "    u              (step, isobaricInhPa, latitude, longitude) float32 ...\n",
      "    v              (step, isobaricInhPa, latitude, longitude) float32 ...\n",
      "Attributes:\n",
      "    GRIB_edition:            1\n",
      "    GRIB_centre:             ecmf\n",
      "    GRIB_centreDescription:  European Centre for Medium-Range Weather Forecasts\n",
      "    GRIB_subCentre:          0\n",
      "    Conventions:             CF-1.7\n",
      "    institution:             European Centre for Medium-Range Weather Forecasts\n",
      "    history:                 2024-01-24T09:35 GRIB to CDM+CF via cfgrib-0.9.1...\n"
     ]
    }
   ],
   "source": [
    "import cf2cdm\n",
    "import xarray as xr\n",
    "import cfgrib\n",
    "\n",
    "\n",
    "# GRIB 파일 경로 설정\n",
    "grib_file_path = 'hres_0.1deg_pres_h000-h057_2018123112.grib2'\n",
    "\n",
    "# xarray.open_dataset을 사용하여 GRIB 파일 열기\n",
    "ds = xr.open_dataset(grib_file_path, engine='cfgrib')\n",
    "\n",
    "print(ds)"
   ],
   "metadata": {
    "collapsed": false,
    "ExecuteTime": {
     "end_time": "2024-01-24T00:35:07.066730Z",
     "start_time": "2024-01-24T00:35:07.012631Z"
    }
   },
   "id": "f087940e8c971434",
   "execution_count": 6
  },
  {
   "cell_type": "code",
   "outputs": [
    {
     "name": "stderr",
     "output_type": "stream",
     "text": [
      "skipping variable: paramId==40 shortName='swvl2'\n",
      "Traceback (most recent call last):\n",
      "  File \"/Users/isangdae/miniforge3/envs/sdlee_test/lib/python3.11/site-packages/cfgrib/dataset.py\", line 680, in build_dataset_components\n",
      "    dict_merge(variables, coord_vars)\n",
      "  File \"/Users/isangdae/miniforge3/envs/sdlee_test/lib/python3.11/site-packages/cfgrib/dataset.py\", line 611, in dict_merge\n",
      "    raise DatasetBuildError(\n",
      "cfgrib.dataset.DatasetBuildError: key present and new value is different: key='depthBelowLandLayer' value=Variable(dimensions=(), data=0.0) new_value=Variable(dimensions=(), data=7.0)\n",
      "skipping variable: paramId==170 shortName='stl2'\n",
      "Traceback (most recent call last):\n",
      "  File \"/Users/isangdae/miniforge3/envs/sdlee_test/lib/python3.11/site-packages/cfgrib/dataset.py\", line 680, in build_dataset_components\n",
      "    dict_merge(variables, coord_vars)\n",
      "  File \"/Users/isangdae/miniforge3/envs/sdlee_test/lib/python3.11/site-packages/cfgrib/dataset.py\", line 611, in dict_merge\n",
      "    raise DatasetBuildError(\n",
      "cfgrib.dataset.DatasetBuildError: key present and new value is different: key='depthBelowLandLayer' value=Variable(dimensions=(), data=0.0) new_value=Variable(dimensions=(), data=7.0)\n",
      "skipping variable: paramId==41 shortName='swvl3'\n",
      "Traceback (most recent call last):\n",
      "  File \"/Users/isangdae/miniforge3/envs/sdlee_test/lib/python3.11/site-packages/cfgrib/dataset.py\", line 680, in build_dataset_components\n",
      "    dict_merge(variables, coord_vars)\n",
      "  File \"/Users/isangdae/miniforge3/envs/sdlee_test/lib/python3.11/site-packages/cfgrib/dataset.py\", line 611, in dict_merge\n",
      "    raise DatasetBuildError(\n",
      "cfgrib.dataset.DatasetBuildError: key present and new value is different: key='depthBelowLandLayer' value=Variable(dimensions=(), data=0.0) new_value=Variable(dimensions=(), data=28.0)\n",
      "skipping variable: paramId==42 shortName='swvl4'\n",
      "Traceback (most recent call last):\n",
      "  File \"/Users/isangdae/miniforge3/envs/sdlee_test/lib/python3.11/site-packages/cfgrib/dataset.py\", line 680, in build_dataset_components\n",
      "    dict_merge(variables, coord_vars)\n",
      "  File \"/Users/isangdae/miniforge3/envs/sdlee_test/lib/python3.11/site-packages/cfgrib/dataset.py\", line 611, in dict_merge\n",
      "    raise DatasetBuildError(\n",
      "cfgrib.dataset.DatasetBuildError: key present and new value is different: key='depthBelowLandLayer' value=Variable(dimensions=(), data=0.0) new_value=Variable(dimensions=(), data=100.0)\n",
      "skipping variable: paramId==183 shortName='stl3'\n",
      "Traceback (most recent call last):\n",
      "  File \"/Users/isangdae/miniforge3/envs/sdlee_test/lib/python3.11/site-packages/cfgrib/dataset.py\", line 680, in build_dataset_components\n",
      "    dict_merge(variables, coord_vars)\n",
      "  File \"/Users/isangdae/miniforge3/envs/sdlee_test/lib/python3.11/site-packages/cfgrib/dataset.py\", line 611, in dict_merge\n",
      "    raise DatasetBuildError(\n",
      "cfgrib.dataset.DatasetBuildError: key present and new value is different: key='depthBelowLandLayer' value=Variable(dimensions=(), data=0.0) new_value=Variable(dimensions=(), data=28.0)\n",
      "skipping variable: paramId==236 shortName='stl4'\n",
      "Traceback (most recent call last):\n",
      "  File \"/Users/isangdae/miniforge3/envs/sdlee_test/lib/python3.11/site-packages/cfgrib/dataset.py\", line 680, in build_dataset_components\n",
      "    dict_merge(variables, coord_vars)\n",
      "  File \"/Users/isangdae/miniforge3/envs/sdlee_test/lib/python3.11/site-packages/cfgrib/dataset.py\", line 611, in dict_merge\n",
      "    raise DatasetBuildError(\n",
      "cfgrib.dataset.DatasetBuildError: key present and new value is different: key='depthBelowLandLayer' value=Variable(dimensions=(), data=0.0) new_value=Variable(dimensions=(), data=100.0)\n"
     ]
    },
    {
     "name": "stdout",
     "output_type": "stream",
     "text": [
      "<xarray.Dataset>\n",
      "Dimensions:              (latitude: 101, longitude: 91)\n",
      "Coordinates:\n",
      "    number               int64 ...\n",
      "    time                 datetime64[ns] ...\n",
      "    step                 timedelta64[ns] ...\n",
      "    surface              float64 ...\n",
      "  * latitude             (latitude) float64 40.0 39.9 39.8 ... 30.2 30.1 30.0\n",
      "  * longitude            (longitude) float64 123.0 123.1 123.2 ... 131.9 132.0\n",
      "    valid_time           datetime64[ns] ...\n",
      "    depthBelowLandLayer  float64 ...\n",
      "Data variables:\n",
      "    t2m                  (latitude, longitude) float32 ...\n",
      "    sp                   (latitude, longitude) float32 ...\n",
      "    v10                  (latitude, longitude) float32 ...\n",
      "    msl                  (latitude, longitude) float32 ...\n",
      "    d2m                  (latitude, longitude) float32 ...\n",
      "    u10                  (latitude, longitude) float32 ...\n",
      "    skt                  (latitude, longitude) float32 ...\n",
      "    stl1                 (latitude, longitude) float32 ...\n",
      "    swvl1                (latitude, longitude) float32 ...\n",
      "    lsm                  (latitude, longitude) float32 ...\n",
      "Attributes:\n",
      "    GRIB_edition:            1\n",
      "    GRIB_centre:             ecmf\n",
      "    GRIB_centreDescription:  European Centre for Medium-Range Weather Forecasts\n",
      "    GRIB_subCentre:          0\n",
      "    Conventions:             CF-1.7\n",
      "    institution:             European Centre for Medium-Range Weather Forecasts\n",
      "    history:                 2024-01-24T09:35 GRIB to CDM+CF via cfgrib-0.9.1...\n"
     ]
    }
   ],
   "source": [
    "import cf2cdm\n",
    "import xarray as xr\n",
    "import cfgrib\n",
    "\n",
    "\n",
    "# GRIB 파일 경로 설정\n",
    "grib_file_path = 'hres_0.1deg_unis_h012_2024010100.grib2'\n",
    "\n",
    "# xarray.open_dataset을 사용하여 GRIB 파일 열기\n",
    "ds = xr.open_dataset(grib_file_path, engine='cfgrib')\n",
    "\n",
    "print(ds)"
   ],
   "metadata": {
    "collapsed": false,
    "ExecuteTime": {
     "end_time": "2024-01-24T00:35:52.946932Z",
     "start_time": "2024-01-24T00:35:52.893640Z"
    }
   },
   "id": "9c8f4fdf16930ad0",
   "execution_count": 7
  },
  {
   "cell_type": "code",
   "outputs": [
    {
     "ename": "DatasetBuildError",
     "evalue": "multiple values for unique key, try re-open the file with one of:\n    filter_by_keys={'typeOfLevel': 'isobaricInhPa'}\n    filter_by_keys={'typeOfLevel': 'isobaricInPa'}",
     "output_type": "error",
     "traceback": [
      "\u001B[0;31m---------------------------------------------------------------------------\u001B[0m",
      "\u001B[0;31mDatasetBuildError\u001B[0m                         Traceback (most recent call last)",
      "File \u001B[0;32m~/miniforge3/envs/sdlee_test/lib/python3.11/site-packages/cfgrib/dataset.py:653\u001B[0m, in \u001B[0;36mbuild_dataset_components\u001B[0;34m(index, errors, encode_cf, squeeze, log, read_keys, time_dims, extra_coords)\u001B[0m\n\u001B[1;32m    652\u001B[0m \u001B[38;5;28;01mtry\u001B[39;00m:\n\u001B[0;32m--> 653\u001B[0m     dims, data_var, coord_vars \u001B[38;5;241m=\u001B[39m \u001B[43mbuild_variable_components\u001B[49m\u001B[43m(\u001B[49m\n\u001B[1;32m    654\u001B[0m \u001B[43m        \u001B[49m\u001B[43mvar_index\u001B[49m\u001B[43m,\u001B[49m\n\u001B[1;32m    655\u001B[0m \u001B[43m        \u001B[49m\u001B[43mencode_cf\u001B[49m\u001B[43m,\u001B[49m\n\u001B[1;32m    656\u001B[0m \u001B[43m        \u001B[49m\u001B[43mfilter_by_keys\u001B[49m\u001B[43m,\u001B[49m\n\u001B[1;32m    657\u001B[0m \u001B[43m        \u001B[49m\u001B[43merrors\u001B[49m\u001B[38;5;241;43m=\u001B[39;49m\u001B[43merrors\u001B[49m\u001B[43m,\u001B[49m\n\u001B[1;32m    658\u001B[0m \u001B[43m        \u001B[49m\u001B[43msqueeze\u001B[49m\u001B[38;5;241;43m=\u001B[39;49m\u001B[43msqueeze\u001B[49m\u001B[43m,\u001B[49m\n\u001B[1;32m    659\u001B[0m \u001B[43m        \u001B[49m\u001B[43mread_keys\u001B[49m\u001B[38;5;241;43m=\u001B[39;49m\u001B[43mread_keys\u001B[49m\u001B[43m,\u001B[49m\n\u001B[1;32m    660\u001B[0m \u001B[43m        \u001B[49m\u001B[43mtime_dims\u001B[49m\u001B[38;5;241;43m=\u001B[39;49m\u001B[43mtime_dims\u001B[49m\u001B[43m,\u001B[49m\n\u001B[1;32m    661\u001B[0m \u001B[43m        \u001B[49m\u001B[43mextra_coords\u001B[49m\u001B[38;5;241;43m=\u001B[39;49m\u001B[43mextra_coords\u001B[49m\u001B[43m,\u001B[49m\n\u001B[1;32m    662\u001B[0m \u001B[43m    \u001B[49m\u001B[43m)\u001B[49m\n\u001B[1;32m    663\u001B[0m \u001B[38;5;28;01mexcept\u001B[39;00m DatasetBuildError \u001B[38;5;28;01mas\u001B[39;00m ex:\n\u001B[1;32m    664\u001B[0m     \u001B[38;5;66;03m# NOTE: When a variable has more than one value for an attribute we need to raise all\u001B[39;00m\n\u001B[1;32m    665\u001B[0m     \u001B[38;5;66;03m#   the values in the file, not just the ones associated with that variable. See #54.\u001B[39;00m\n",
      "File \u001B[0;32m~/miniforge3/envs/sdlee_test/lib/python3.11/site-packages/cfgrib/dataset.py:490\u001B[0m, in \u001B[0;36mbuild_variable_components\u001B[0;34m(index, encode_cf, filter_by_keys, log, errors, squeeze, read_keys, time_dims, extra_coords)\u001B[0m\n\u001B[1;32m    479\u001B[0m \u001B[38;5;28;01mdef\u001B[39;00m \u001B[38;5;21mbuild_variable_components\u001B[39m(\n\u001B[1;32m    480\u001B[0m     index: abc\u001B[38;5;241m.\u001B[39mIndex[T\u001B[38;5;241m.\u001B[39mAny, abc\u001B[38;5;241m.\u001B[39mField],\n\u001B[1;32m    481\u001B[0m     encode_cf: T\u001B[38;5;241m.\u001B[39mSequence[\u001B[38;5;28mstr\u001B[39m] \u001B[38;5;241m=\u001B[39m (),\n\u001B[0;32m   (...)\u001B[0m\n\u001B[1;32m    488\u001B[0m     extra_coords: T\u001B[38;5;241m.\u001B[39mDict[\u001B[38;5;28mstr\u001B[39m, \u001B[38;5;28mstr\u001B[39m] \u001B[38;5;241m=\u001B[39m {},\n\u001B[1;32m    489\u001B[0m ) \u001B[38;5;241m-\u001B[39m\u001B[38;5;241m>\u001B[39m T\u001B[38;5;241m.\u001B[39mTuple[T\u001B[38;5;241m.\u001B[39mDict[\u001B[38;5;28mstr\u001B[39m, \u001B[38;5;28mint\u001B[39m], Variable, T\u001B[38;5;241m.\u001B[39mDict[\u001B[38;5;28mstr\u001B[39m, Variable]]:\n\u001B[0;32m--> 490\u001B[0m     data_var_attrs \u001B[38;5;241m=\u001B[39m \u001B[43menforce_unique_attributes\u001B[49m\u001B[43m(\u001B[49m\u001B[43mindex\u001B[49m\u001B[43m,\u001B[49m\u001B[43m \u001B[49m\u001B[43mDATA_ATTRIBUTES_KEYS\u001B[49m\u001B[43m,\u001B[49m\u001B[43m \u001B[49m\u001B[43mfilter_by_keys\u001B[49m\u001B[43m)\u001B[49m\n\u001B[1;32m    491\u001B[0m     grid_type_keys \u001B[38;5;241m=\u001B[39m GRID_TYPE_MAP\u001B[38;5;241m.\u001B[39mget(index\u001B[38;5;241m.\u001B[39mgetone(\u001B[38;5;124m\"\u001B[39m\u001B[38;5;124mgridType\u001B[39m\u001B[38;5;124m\"\u001B[39m), [])\n",
      "File \u001B[0;32m~/miniforge3/envs/sdlee_test/lib/python3.11/site-packages/cfgrib/dataset.py:277\u001B[0m, in \u001B[0;36menforce_unique_attributes\u001B[0;34m(index, attributes_keys, filter_by_keys)\u001B[0m\n\u001B[1;32m    276\u001B[0m         fbks\u001B[38;5;241m.\u001B[39mappend(fbk)\n\u001B[0;32m--> 277\u001B[0m     \u001B[38;5;28;01mraise\u001B[39;00m DatasetBuildError(\u001B[38;5;124m\"\u001B[39m\u001B[38;5;124mmultiple values for key \u001B[39m\u001B[38;5;132;01m%r\u001B[39;00m\u001B[38;5;124m\"\u001B[39m \u001B[38;5;241m%\u001B[39m key, key, fbks)\n\u001B[1;32m    278\u001B[0m \u001B[38;5;28;01mif\u001B[39;00m values \u001B[38;5;129;01mand\u001B[39;00m values[\u001B[38;5;241m0\u001B[39m] \u001B[38;5;129;01mnot\u001B[39;00m \u001B[38;5;129;01min\u001B[39;00m (\u001B[38;5;124m\"\u001B[39m\u001B[38;5;124mundef\u001B[39m\u001B[38;5;124m\"\u001B[39m, \u001B[38;5;124m\"\u001B[39m\u001B[38;5;124munknown\u001B[39m\u001B[38;5;124m\"\u001B[39m):\n",
      "\u001B[0;31mDatasetBuildError\u001B[0m: multiple values for key 'typeOfLevel'",
      "\nDuring handling of the above exception, another exception occurred:\n",
      "\u001B[0;31mDatasetBuildError\u001B[0m                         Traceback (most recent call last)",
      "Cell \u001B[0;32mIn[8], line 10\u001B[0m\n\u001B[1;32m      7\u001B[0m grib_file_path \u001B[38;5;241m=\u001B[39m \u001B[38;5;124m'\u001B[39m\u001B[38;5;124mg100_v070_erea_pres_h003.2023050212.grib2\u001B[39m\u001B[38;5;124m'\u001B[39m\n\u001B[1;32m      9\u001B[0m \u001B[38;5;66;03m# xarray.open_dataset을 사용하여 GRIB 파일 열기\u001B[39;00m\n\u001B[0;32m---> 10\u001B[0m ds \u001B[38;5;241m=\u001B[39m \u001B[43mxr\u001B[49m\u001B[38;5;241;43m.\u001B[39;49m\u001B[43mopen_dataset\u001B[49m\u001B[43m(\u001B[49m\u001B[43mgrib_file_path\u001B[49m\u001B[43m,\u001B[49m\u001B[43m \u001B[49m\u001B[43mengine\u001B[49m\u001B[38;5;241;43m=\u001B[39;49m\u001B[38;5;124;43m'\u001B[39;49m\u001B[38;5;124;43mcfgrib\u001B[39;49m\u001B[38;5;124;43m'\u001B[39;49m\u001B[43m)\u001B[49m\n\u001B[1;32m     12\u001B[0m \u001B[38;5;28mprint\u001B[39m(ds)\n",
      "File \u001B[0;32m~/miniforge3/envs/sdlee_test/lib/python3.11/site-packages/xarray/backends/api.py:572\u001B[0m, in \u001B[0;36mopen_dataset\u001B[0;34m(filename_or_obj, engine, chunks, cache, decode_cf, mask_and_scale, decode_times, decode_timedelta, use_cftime, concat_characters, decode_coords, drop_variables, inline_array, chunked_array_type, from_array_kwargs, backend_kwargs, **kwargs)\u001B[0m\n\u001B[1;32m    560\u001B[0m decoders \u001B[38;5;241m=\u001B[39m _resolve_decoders_kwargs(\n\u001B[1;32m    561\u001B[0m     decode_cf,\n\u001B[1;32m    562\u001B[0m     open_backend_dataset_parameters\u001B[38;5;241m=\u001B[39mbackend\u001B[38;5;241m.\u001B[39mopen_dataset_parameters,\n\u001B[0;32m   (...)\u001B[0m\n\u001B[1;32m    568\u001B[0m     decode_coords\u001B[38;5;241m=\u001B[39mdecode_coords,\n\u001B[1;32m    569\u001B[0m )\n\u001B[1;32m    571\u001B[0m overwrite_encoded_chunks \u001B[38;5;241m=\u001B[39m kwargs\u001B[38;5;241m.\u001B[39mpop(\u001B[38;5;124m\"\u001B[39m\u001B[38;5;124moverwrite_encoded_chunks\u001B[39m\u001B[38;5;124m\"\u001B[39m, \u001B[38;5;28;01mNone\u001B[39;00m)\n\u001B[0;32m--> 572\u001B[0m backend_ds \u001B[38;5;241m=\u001B[39m \u001B[43mbackend\u001B[49m\u001B[38;5;241;43m.\u001B[39;49m\u001B[43mopen_dataset\u001B[49m\u001B[43m(\u001B[49m\n\u001B[1;32m    573\u001B[0m \u001B[43m    \u001B[49m\u001B[43mfilename_or_obj\u001B[49m\u001B[43m,\u001B[49m\n\u001B[1;32m    574\u001B[0m \u001B[43m    \u001B[49m\u001B[43mdrop_variables\u001B[49m\u001B[38;5;241;43m=\u001B[39;49m\u001B[43mdrop_variables\u001B[49m\u001B[43m,\u001B[49m\n\u001B[1;32m    575\u001B[0m \u001B[43m    \u001B[49m\u001B[38;5;241;43m*\u001B[39;49m\u001B[38;5;241;43m*\u001B[39;49m\u001B[43mdecoders\u001B[49m\u001B[43m,\u001B[49m\n\u001B[1;32m    576\u001B[0m \u001B[43m    \u001B[49m\u001B[38;5;241;43m*\u001B[39;49m\u001B[38;5;241;43m*\u001B[39;49m\u001B[43mkwargs\u001B[49m\u001B[43m,\u001B[49m\n\u001B[1;32m    577\u001B[0m \u001B[43m\u001B[49m\u001B[43m)\u001B[49m\n\u001B[1;32m    578\u001B[0m ds \u001B[38;5;241m=\u001B[39m _dataset_from_backend_dataset(\n\u001B[1;32m    579\u001B[0m     backend_ds,\n\u001B[1;32m    580\u001B[0m     filename_or_obj,\n\u001B[0;32m   (...)\u001B[0m\n\u001B[1;32m    590\u001B[0m     \u001B[38;5;241m*\u001B[39m\u001B[38;5;241m*\u001B[39mkwargs,\n\u001B[1;32m    591\u001B[0m )\n\u001B[1;32m    592\u001B[0m \u001B[38;5;28;01mreturn\u001B[39;00m ds\n",
      "File \u001B[0;32m~/miniforge3/envs/sdlee_test/lib/python3.11/site-packages/cfgrib/xarray_plugin.py:108\u001B[0m, in \u001B[0;36mCfGribBackend.open_dataset\u001B[0;34m(self, filename_or_obj, mask_and_scale, decode_times, concat_characters, decode_coords, drop_variables, use_cftime, decode_timedelta, lock, indexpath, filter_by_keys, read_keys, encode_cf, squeeze, time_dims, errors, extra_coords)\u001B[0m\n\u001B[1;32m     87\u001B[0m \u001B[38;5;28;01mdef\u001B[39;00m \u001B[38;5;21mopen_dataset\u001B[39m(\n\u001B[1;32m     88\u001B[0m     \u001B[38;5;28mself\u001B[39m,\n\u001B[1;32m     89\u001B[0m     filename_or_obj: T\u001B[38;5;241m.\u001B[39mUnion[\u001B[38;5;28mstr\u001B[39m, abc\u001B[38;5;241m.\u001B[39mMappingFieldset[T\u001B[38;5;241m.\u001B[39mAny, abc\u001B[38;5;241m.\u001B[39mField]],\n\u001B[0;32m   (...)\u001B[0m\n\u001B[1;32m    106\u001B[0m     extra_coords: T\u001B[38;5;241m.\u001B[39mDict[\u001B[38;5;28mstr\u001B[39m, \u001B[38;5;28mstr\u001B[39m] \u001B[38;5;241m=\u001B[39m {},\n\u001B[1;32m    107\u001B[0m ) \u001B[38;5;241m-\u001B[39m\u001B[38;5;241m>\u001B[39m xr\u001B[38;5;241m.\u001B[39mDataset:\n\u001B[0;32m--> 108\u001B[0m     store \u001B[38;5;241m=\u001B[39m \u001B[43mCfGribDataStore\u001B[49m\u001B[43m(\u001B[49m\n\u001B[1;32m    109\u001B[0m \u001B[43m        \u001B[49m\u001B[43mfilename_or_obj\u001B[49m\u001B[43m,\u001B[49m\n\u001B[1;32m    110\u001B[0m \u001B[43m        \u001B[49m\u001B[43mindexpath\u001B[49m\u001B[38;5;241;43m=\u001B[39;49m\u001B[43mindexpath\u001B[49m\u001B[43m,\u001B[49m\n\u001B[1;32m    111\u001B[0m \u001B[43m        \u001B[49m\u001B[43mfilter_by_keys\u001B[49m\u001B[38;5;241;43m=\u001B[39;49m\u001B[43mfilter_by_keys\u001B[49m\u001B[43m,\u001B[49m\n\u001B[1;32m    112\u001B[0m \u001B[43m        \u001B[49m\u001B[43mread_keys\u001B[49m\u001B[38;5;241;43m=\u001B[39;49m\u001B[43mread_keys\u001B[49m\u001B[43m,\u001B[49m\n\u001B[1;32m    113\u001B[0m \u001B[43m        \u001B[49m\u001B[43mencode_cf\u001B[49m\u001B[38;5;241;43m=\u001B[39;49m\u001B[43mencode_cf\u001B[49m\u001B[43m,\u001B[49m\n\u001B[1;32m    114\u001B[0m \u001B[43m        \u001B[49m\u001B[43msqueeze\u001B[49m\u001B[38;5;241;43m=\u001B[39;49m\u001B[43msqueeze\u001B[49m\u001B[43m,\u001B[49m\n\u001B[1;32m    115\u001B[0m \u001B[43m        \u001B[49m\u001B[43mtime_dims\u001B[49m\u001B[38;5;241;43m=\u001B[39;49m\u001B[43mtime_dims\u001B[49m\u001B[43m,\u001B[49m\n\u001B[1;32m    116\u001B[0m \u001B[43m        \u001B[49m\u001B[43mlock\u001B[49m\u001B[38;5;241;43m=\u001B[39;49m\u001B[43mlock\u001B[49m\u001B[43m,\u001B[49m\n\u001B[1;32m    117\u001B[0m \u001B[43m        \u001B[49m\u001B[43merrors\u001B[49m\u001B[38;5;241;43m=\u001B[39;49m\u001B[43merrors\u001B[49m\u001B[43m,\u001B[49m\n\u001B[1;32m    118\u001B[0m \u001B[43m        \u001B[49m\u001B[43mextra_coords\u001B[49m\u001B[38;5;241;43m=\u001B[39;49m\u001B[43mextra_coords\u001B[49m\u001B[43m,\u001B[49m\n\u001B[1;32m    119\u001B[0m \u001B[43m    \u001B[49m\u001B[43m)\u001B[49m\n\u001B[1;32m    120\u001B[0m     \u001B[38;5;28;01mwith\u001B[39;00m xr\u001B[38;5;241m.\u001B[39mcore\u001B[38;5;241m.\u001B[39mutils\u001B[38;5;241m.\u001B[39mclose_on_error(store):\n\u001B[1;32m    121\u001B[0m         \u001B[38;5;28mvars\u001B[39m, attrs \u001B[38;5;241m=\u001B[39m store\u001B[38;5;241m.\u001B[39mload()  \u001B[38;5;66;03m# type: ignore\u001B[39;00m\n",
      "File \u001B[0;32m~/miniforge3/envs/sdlee_test/lib/python3.11/site-packages/cfgrib/xarray_plugin.py:40\u001B[0m, in \u001B[0;36mCfGribDataStore.__init__\u001B[0;34m(self, filename, lock, **backend_kwargs)\u001B[0m\n\u001B[1;32m     38\u001B[0m \u001B[38;5;28;01melse\u001B[39;00m:\n\u001B[1;32m     39\u001B[0m     opener \u001B[38;5;241m=\u001B[39m dataset\u001B[38;5;241m.\u001B[39mopen_fieldset\n\u001B[0;32m---> 40\u001B[0m \u001B[38;5;28mself\u001B[39m\u001B[38;5;241m.\u001B[39mds \u001B[38;5;241m=\u001B[39m \u001B[43mopener\u001B[49m\u001B[43m(\u001B[49m\u001B[43mfilename\u001B[49m\u001B[43m,\u001B[49m\u001B[43m \u001B[49m\u001B[38;5;241;43m*\u001B[39;49m\u001B[38;5;241;43m*\u001B[39;49m\u001B[43mbackend_kwargs\u001B[49m\u001B[43m)\u001B[49m\n",
      "File \u001B[0;32m~/miniforge3/envs/sdlee_test/lib/python3.11/site-packages/cfgrib/dataset.py:784\u001B[0m, in \u001B[0;36mopen_file\u001B[0;34m(path, grib_errors, indexpath, filter_by_keys, read_keys, time_dims, extra_coords, **kwargs)\u001B[0m\n\u001B[1;32m    781\u001B[0m index_keys \u001B[38;5;241m=\u001B[39m compute_index_keys(time_dims, extra_coords)\n\u001B[1;32m    782\u001B[0m index \u001B[38;5;241m=\u001B[39m open_fileindex(stream, indexpath, index_keys, filter_by_keys\u001B[38;5;241m=\u001B[39mfilter_by_keys)\n\u001B[0;32m--> 784\u001B[0m \u001B[38;5;28;01mreturn\u001B[39;00m \u001B[43mopen_from_index\u001B[49m\u001B[43m(\u001B[49m\u001B[43mindex\u001B[49m\u001B[43m,\u001B[49m\u001B[43m \u001B[49m\u001B[43mread_keys\u001B[49m\u001B[43m,\u001B[49m\u001B[43m \u001B[49m\u001B[43mtime_dims\u001B[49m\u001B[43m,\u001B[49m\u001B[43m \u001B[49m\u001B[43mextra_coords\u001B[49m\u001B[43m,\u001B[49m\u001B[43m \u001B[49m\u001B[38;5;241;43m*\u001B[39;49m\u001B[38;5;241;43m*\u001B[39;49m\u001B[43mkwargs\u001B[49m\u001B[43m)\u001B[49m\n",
      "File \u001B[0;32m~/miniforge3/envs/sdlee_test/lib/python3.11/site-packages/cfgrib/dataset.py:726\u001B[0m, in \u001B[0;36mopen_from_index\u001B[0;34m(index, read_keys, time_dims, extra_coords, **kwargs)\u001B[0m\n\u001B[1;32m    719\u001B[0m \u001B[38;5;28;01mdef\u001B[39;00m \u001B[38;5;21mopen_from_index\u001B[39m(\n\u001B[1;32m    720\u001B[0m     index: abc\u001B[38;5;241m.\u001B[39mIndex[T\u001B[38;5;241m.\u001B[39mAny, abc\u001B[38;5;241m.\u001B[39mField],\n\u001B[1;32m    721\u001B[0m     read_keys: T\u001B[38;5;241m.\u001B[39mSequence[\u001B[38;5;28mstr\u001B[39m] \u001B[38;5;241m=\u001B[39m (),\n\u001B[0;32m   (...)\u001B[0m\n\u001B[1;32m    724\u001B[0m     \u001B[38;5;241m*\u001B[39m\u001B[38;5;241m*\u001B[39mkwargs: T\u001B[38;5;241m.\u001B[39mAny,\n\u001B[1;32m    725\u001B[0m ) \u001B[38;5;241m-\u001B[39m\u001B[38;5;241m>\u001B[39m Dataset:\n\u001B[0;32m--> 726\u001B[0m     dimensions, variables, attributes, encoding \u001B[38;5;241m=\u001B[39m \u001B[43mbuild_dataset_components\u001B[49m\u001B[43m(\u001B[49m\n\u001B[1;32m    727\u001B[0m \u001B[43m        \u001B[49m\u001B[43mindex\u001B[49m\u001B[43m,\u001B[49m\u001B[43m \u001B[49m\u001B[43mread_keys\u001B[49m\u001B[38;5;241;43m=\u001B[39;49m\u001B[43mread_keys\u001B[49m\u001B[43m,\u001B[49m\u001B[43m \u001B[49m\u001B[43mtime_dims\u001B[49m\u001B[38;5;241;43m=\u001B[39;49m\u001B[43mtime_dims\u001B[49m\u001B[43m,\u001B[49m\u001B[43m \u001B[49m\u001B[43mextra_coords\u001B[49m\u001B[38;5;241;43m=\u001B[39;49m\u001B[43mextra_coords\u001B[49m\u001B[43m,\u001B[49m\u001B[43m \u001B[49m\u001B[38;5;241;43m*\u001B[39;49m\u001B[38;5;241;43m*\u001B[39;49m\u001B[43mkwargs\u001B[49m\n\u001B[1;32m    728\u001B[0m \u001B[43m    \u001B[49m\u001B[43m)\u001B[49m\n\u001B[1;32m    729\u001B[0m     \u001B[38;5;28;01mreturn\u001B[39;00m Dataset(dimensions, variables, attributes, encoding)\n",
      "File \u001B[0;32m~/miniforge3/envs/sdlee_test/lib/python3.11/site-packages/cfgrib/dataset.py:674\u001B[0m, in \u001B[0;36mbuild_dataset_components\u001B[0;34m(index, errors, encode_cf, squeeze, log, read_keys, time_dims, extra_coords)\u001B[0m\n\u001B[1;32m    672\u001B[0m         fbks\u001B[38;5;241m.\u001B[39mappend(fbk)\n\u001B[1;32m    673\u001B[0m         error_message \u001B[38;5;241m+\u001B[39m\u001B[38;5;241m=\u001B[39m \u001B[38;5;124m\"\u001B[39m\u001B[38;5;130;01m\\n\u001B[39;00m\u001B[38;5;124m    filter_by_keys=\u001B[39m\u001B[38;5;132;01m%r\u001B[39;00m\u001B[38;5;124m\"\u001B[39m \u001B[38;5;241m%\u001B[39m fbk\n\u001B[0;32m--> 674\u001B[0m     \u001B[38;5;28;01mraise\u001B[39;00m DatasetBuildError(error_message, key, fbks)\n\u001B[1;32m    675\u001B[0m short_name \u001B[38;5;241m=\u001B[39m data_var\u001B[38;5;241m.\u001B[39mattributes\u001B[38;5;241m.\u001B[39mget(\u001B[38;5;124m\"\u001B[39m\u001B[38;5;124mGRIB_shortName\u001B[39m\u001B[38;5;124m\"\u001B[39m, \u001B[38;5;124m\"\u001B[39m\u001B[38;5;124mparamId_\u001B[39m\u001B[38;5;132;01m%d\u001B[39;00m\u001B[38;5;124m\"\u001B[39m \u001B[38;5;241m%\u001B[39m param_id)\n\u001B[1;32m    676\u001B[0m var_name \u001B[38;5;241m=\u001B[39m data_var\u001B[38;5;241m.\u001B[39mattributes\u001B[38;5;241m.\u001B[39mget(\u001B[38;5;124m\"\u001B[39m\u001B[38;5;124mGRIB_cfVarName\u001B[39m\u001B[38;5;124m\"\u001B[39m, \u001B[38;5;124m\"\u001B[39m\u001B[38;5;124munknown\u001B[39m\u001B[38;5;124m\"\u001B[39m)\n",
      "\u001B[0;31mDatasetBuildError\u001B[0m: multiple values for unique key, try re-open the file with one of:\n    filter_by_keys={'typeOfLevel': 'isobaricInhPa'}\n    filter_by_keys={'typeOfLevel': 'isobaricInPa'}"
     ]
    }
   ],
   "source": [
    "import cf2cdm\n",
    "import xarray as xr\n",
    "import cfgrib\n",
    "\n",
    "\n",
    "# GRIB 파일 경로 설정\n",
    "grib_file_path = 'g100_v070_erea_pres_h006.2024011112.grib2'\n",
    "\n",
    "# xarray.open_dataset을 사용하여 GRIB 파일 열기\n",
    "ds = xr.open_dataset(grib_file_path, engine='cfgrib')\n",
    "\n",
    "print(ds)"
   ],
   "metadata": {
    "collapsed": false,
    "ExecuteTime": {
     "end_time": "2024-01-24T00:36:28.899317Z",
     "start_time": "2024-01-24T00:36:28.837045Z"
    }
   },
   "id": "ceff7964b57111b7",
   "execution_count": 8
  },
  {
   "cell_type": "code",
   "outputs": [
    {
     "name": "stderr",
     "output_type": "stream",
     "text": [
      "skipping variable: paramId==0 shortName='unknown'\n",
      "Traceback (most recent call last):\n",
      "  File \"/Users/isangdae/miniforge3/envs/sdlee_test/lib/python3.11/site-packages/cfgrib/dataset.py\", line 680, in build_dataset_components\n",
      "    dict_merge(variables, coord_vars)\n",
      "  File \"/Users/isangdae/miniforge3/envs/sdlee_test/lib/python3.11/site-packages/cfgrib/dataset.py\", line 611, in dict_merge\n",
      "    raise DatasetBuildError(\n",
      "cfgrib.dataset.DatasetBuildError: key present and new value is different: key='isobaricInhPa' value=Variable(dimensions=('isobaricInhPa',), data=array([1000.,  950.,  925.,  850.,  700.,  600.,  500.,  400.,  300.,\n",
      "        250.,  200.,  150.,  100.,   70.,   50.,   30.,   20.,   15.,\n",
      "         10.,    7.,    5.,    3.,    2.,    1.])) new_value=Variable(dimensions=('isobaricInhPa',), data=array([1000.,  950.,  925.,  850.,  700.,  600.,  500.,  400.,  300.,\n",
      "        250.,  200.,  150.,  100.,   70.,   50.,   30.,   20.,   15.,\n",
      "         10.]))\n",
      "skipping variable: paramId==157 shortName='r'\n",
      "Traceback (most recent call last):\n",
      "  File \"/Users/isangdae/miniforge3/envs/sdlee_test/lib/python3.11/site-packages/cfgrib/dataset.py\", line 680, in build_dataset_components\n",
      "    dict_merge(variables, coord_vars)\n",
      "  File \"/Users/isangdae/miniforge3/envs/sdlee_test/lib/python3.11/site-packages/cfgrib/dataset.py\", line 611, in dict_merge\n",
      "    raise DatasetBuildError(\n",
      "cfgrib.dataset.DatasetBuildError: key present and new value is different: key='isobaricInhPa' value=Variable(dimensions=('isobaricInhPa',), data=array([1000.,  950.,  925.,  850.,  700.,  600.,  500.,  400.,  300.,\n",
      "        250.,  200.,  150.,  100.,   70.,   50.,   30.,   20.,   15.,\n",
      "         10.,    7.,    5.,    3.,    2.,    1.])) new_value=Variable(dimensions=('isobaricInhPa',), data=array([1000.,  950.,  925.,  850.,  700.,  600.,  500.,  400.,  300.,\n",
      "        250.,  200.,  150.,  100.,   70.,   50.,   30.,   20.,   15.,\n",
      "         10.]))\n"
     ]
    },
    {
     "name": "stdout",
     "output_type": "stream",
     "text": [
      "<xarray.Dataset>\n",
      "Dimensions:        (isobaricInhPa: 24, latitude: 107, longitude: 64)\n",
      "Coordinates:\n",
      "    time           datetime64[ns] ...\n",
      "    step           timedelta64[ns] ...\n",
      "  * isobaricInhPa  (isobaricInhPa) float64 1e+03 950.0 925.0 ... 3.0 2.0 1.0\n",
      "  * latitude       (latitude) float64 30.05 30.14 30.23 ... 39.8 39.89 39.98\n",
      "  * longitude      (longitude) float64 123.1 123.3 123.4 ... 131.7 131.8 132.0\n",
      "    valid_time     datetime64[ns] ...\n",
      "Data variables:\n",
      "    wz             (isobaricInhPa, latitude, longitude) float32 ...\n",
      "    u              (isobaricInhPa, latitude, longitude) float32 ...\n",
      "    v              (isobaricInhPa, latitude, longitude) float32 ...\n",
      "    gh             (isobaricInhPa, latitude, longitude) float32 ...\n",
      "    t              (isobaricInhPa, latitude, longitude) float32 ...\n",
      "Attributes:\n",
      "    GRIB_edition:            2\n",
      "    GRIB_centre:             rksl\n",
      "    GRIB_centreDescription:  Seoul\n",
      "    GRIB_subCentre:          11\n",
      "    Conventions:             CF-1.7\n",
      "    institution:             Seoul\n",
      "    history:                 2024-01-24T09:38 GRIB to CDM+CF via cfgrib-0.9.1...\n"
     ]
    }
   ],
   "source": [
    "import cf2cdm\n",
    "import xarray as xr\n",
    "import cfgrib\n",
    "\n",
    "\n",
    "# GRIB 파일 경로 설정\n",
    "grib_file_path = 'g100_v070_erea_unis_h003.2024011112.grib2'\n",
    "\n",
    "# xarray.open_dataset을 사용하여 GRIB 파일 열기\n",
    "ds = xr.open_dataset(grib_file_path, engine='cfgrib',backend_kwargs={'filter_by_keys':{'typeOfLevel': 'isobaricInhPa'}})\n",
    "\n",
    "print(ds)"
   ],
   "metadata": {
    "collapsed": false,
    "ExecuteTime": {
     "end_time": "2024-01-24T00:38:56.159226Z",
     "start_time": "2024-01-24T00:38:55.860413Z"
    }
   },
   "id": "32970b3d90afe68f",
   "execution_count": 10
  },
  {
   "cell_type": "code",
   "outputs": [
    {
     "ename": "DatasetBuildError",
     "evalue": "multiple values for unique key, try re-open the file with one of:\n    filter_by_keys={'typeOfLevel': 'surface'}\n    filter_by_keys={'typeOfLevel': 'nominalTop'}\n    filter_by_keys={'typeOfLevel': 'heightAboveGround'}\n    filter_by_keys={'typeOfLevel': 'depthBelowLandLayer'}\n    filter_by_keys={'typeOfLevel': 'unknown'}\n    filter_by_keys={'typeOfLevel': 'entireAtmosphere'}\n    filter_by_keys={'typeOfLevel': 'isothermZero'}\n    filter_by_keys={'typeOfLevel': 'meanSea'}",
     "output_type": "error",
     "traceback": [
      "\u001B[0;31m---------------------------------------------------------------------------\u001B[0m",
      "\u001B[0;31mDatasetBuildError\u001B[0m                         Traceback (most recent call last)",
      "File \u001B[0;32m~/miniforge3/envs/sdlee_test/lib/python3.11/site-packages/cfgrib/dataset.py:653\u001B[0m, in \u001B[0;36mbuild_dataset_components\u001B[0;34m(index, errors, encode_cf, squeeze, log, read_keys, time_dims, extra_coords)\u001B[0m\n\u001B[1;32m    652\u001B[0m \u001B[38;5;28;01mtry\u001B[39;00m:\n\u001B[0;32m--> 653\u001B[0m     dims, data_var, coord_vars \u001B[38;5;241m=\u001B[39m \u001B[43mbuild_variable_components\u001B[49m\u001B[43m(\u001B[49m\n\u001B[1;32m    654\u001B[0m \u001B[43m        \u001B[49m\u001B[43mvar_index\u001B[49m\u001B[43m,\u001B[49m\n\u001B[1;32m    655\u001B[0m \u001B[43m        \u001B[49m\u001B[43mencode_cf\u001B[49m\u001B[43m,\u001B[49m\n\u001B[1;32m    656\u001B[0m \u001B[43m        \u001B[49m\u001B[43mfilter_by_keys\u001B[49m\u001B[43m,\u001B[49m\n\u001B[1;32m    657\u001B[0m \u001B[43m        \u001B[49m\u001B[43merrors\u001B[49m\u001B[38;5;241;43m=\u001B[39;49m\u001B[43merrors\u001B[49m\u001B[43m,\u001B[49m\n\u001B[1;32m    658\u001B[0m \u001B[43m        \u001B[49m\u001B[43msqueeze\u001B[49m\u001B[38;5;241;43m=\u001B[39;49m\u001B[43msqueeze\u001B[49m\u001B[43m,\u001B[49m\n\u001B[1;32m    659\u001B[0m \u001B[43m        \u001B[49m\u001B[43mread_keys\u001B[49m\u001B[38;5;241;43m=\u001B[39;49m\u001B[43mread_keys\u001B[49m\u001B[43m,\u001B[49m\n\u001B[1;32m    660\u001B[0m \u001B[43m        \u001B[49m\u001B[43mtime_dims\u001B[49m\u001B[38;5;241;43m=\u001B[39;49m\u001B[43mtime_dims\u001B[49m\u001B[43m,\u001B[49m\n\u001B[1;32m    661\u001B[0m \u001B[43m        \u001B[49m\u001B[43mextra_coords\u001B[49m\u001B[38;5;241;43m=\u001B[39;49m\u001B[43mextra_coords\u001B[49m\u001B[43m,\u001B[49m\n\u001B[1;32m    662\u001B[0m \u001B[43m    \u001B[49m\u001B[43m)\u001B[49m\n\u001B[1;32m    663\u001B[0m \u001B[38;5;28;01mexcept\u001B[39;00m DatasetBuildError \u001B[38;5;28;01mas\u001B[39;00m ex:\n\u001B[1;32m    664\u001B[0m     \u001B[38;5;66;03m# NOTE: When a variable has more than one value for an attribute we need to raise all\u001B[39;00m\n\u001B[1;32m    665\u001B[0m     \u001B[38;5;66;03m#   the values in the file, not just the ones associated with that variable. See #54.\u001B[39;00m\n",
      "File \u001B[0;32m~/miniforge3/envs/sdlee_test/lib/python3.11/site-packages/cfgrib/dataset.py:490\u001B[0m, in \u001B[0;36mbuild_variable_components\u001B[0;34m(index, encode_cf, filter_by_keys, log, errors, squeeze, read_keys, time_dims, extra_coords)\u001B[0m\n\u001B[1;32m    479\u001B[0m \u001B[38;5;28;01mdef\u001B[39;00m \u001B[38;5;21mbuild_variable_components\u001B[39m(\n\u001B[1;32m    480\u001B[0m     index: abc\u001B[38;5;241m.\u001B[39mIndex[T\u001B[38;5;241m.\u001B[39mAny, abc\u001B[38;5;241m.\u001B[39mField],\n\u001B[1;32m    481\u001B[0m     encode_cf: T\u001B[38;5;241m.\u001B[39mSequence[\u001B[38;5;28mstr\u001B[39m] \u001B[38;5;241m=\u001B[39m (),\n\u001B[0;32m   (...)\u001B[0m\n\u001B[1;32m    488\u001B[0m     extra_coords: T\u001B[38;5;241m.\u001B[39mDict[\u001B[38;5;28mstr\u001B[39m, \u001B[38;5;28mstr\u001B[39m] \u001B[38;5;241m=\u001B[39m {},\n\u001B[1;32m    489\u001B[0m ) \u001B[38;5;241m-\u001B[39m\u001B[38;5;241m>\u001B[39m T\u001B[38;5;241m.\u001B[39mTuple[T\u001B[38;5;241m.\u001B[39mDict[\u001B[38;5;28mstr\u001B[39m, \u001B[38;5;28mint\u001B[39m], Variable, T\u001B[38;5;241m.\u001B[39mDict[\u001B[38;5;28mstr\u001B[39m, Variable]]:\n\u001B[0;32m--> 490\u001B[0m     data_var_attrs \u001B[38;5;241m=\u001B[39m \u001B[43menforce_unique_attributes\u001B[49m\u001B[43m(\u001B[49m\u001B[43mindex\u001B[49m\u001B[43m,\u001B[49m\u001B[43m \u001B[49m\u001B[43mDATA_ATTRIBUTES_KEYS\u001B[49m\u001B[43m,\u001B[49m\u001B[43m \u001B[49m\u001B[43mfilter_by_keys\u001B[49m\u001B[43m)\u001B[49m\n\u001B[1;32m    491\u001B[0m     grid_type_keys \u001B[38;5;241m=\u001B[39m GRID_TYPE_MAP\u001B[38;5;241m.\u001B[39mget(index\u001B[38;5;241m.\u001B[39mgetone(\u001B[38;5;124m\"\u001B[39m\u001B[38;5;124mgridType\u001B[39m\u001B[38;5;124m\"\u001B[39m), [])\n",
      "File \u001B[0;32m~/miniforge3/envs/sdlee_test/lib/python3.11/site-packages/cfgrib/dataset.py:277\u001B[0m, in \u001B[0;36menforce_unique_attributes\u001B[0;34m(index, attributes_keys, filter_by_keys)\u001B[0m\n\u001B[1;32m    276\u001B[0m         fbks\u001B[38;5;241m.\u001B[39mappend(fbk)\n\u001B[0;32m--> 277\u001B[0m     \u001B[38;5;28;01mraise\u001B[39;00m DatasetBuildError(\u001B[38;5;124m\"\u001B[39m\u001B[38;5;124mmultiple values for key \u001B[39m\u001B[38;5;132;01m%r\u001B[39;00m\u001B[38;5;124m\"\u001B[39m \u001B[38;5;241m%\u001B[39m key, key, fbks)\n\u001B[1;32m    278\u001B[0m \u001B[38;5;28;01mif\u001B[39;00m values \u001B[38;5;129;01mand\u001B[39;00m values[\u001B[38;5;241m0\u001B[39m] \u001B[38;5;129;01mnot\u001B[39;00m \u001B[38;5;129;01min\u001B[39;00m (\u001B[38;5;124m\"\u001B[39m\u001B[38;5;124mundef\u001B[39m\u001B[38;5;124m\"\u001B[39m, \u001B[38;5;124m\"\u001B[39m\u001B[38;5;124munknown\u001B[39m\u001B[38;5;124m\"\u001B[39m):\n",
      "\u001B[0;31mDatasetBuildError\u001B[0m: multiple values for key 'typeOfLevel'",
      "\nDuring handling of the above exception, another exception occurred:\n",
      "\u001B[0;31mDatasetBuildError\u001B[0m                         Traceback (most recent call last)",
      "Cell \u001B[0;32mIn[11], line 10\u001B[0m\n\u001B[1;32m      7\u001B[0m grib_file_path \u001B[38;5;241m=\u001B[39m \u001B[38;5;124m'\u001B[39m\u001B[38;5;124mg100_v070_erea_unis_h006.2023050212.grib2\u001B[39m\u001B[38;5;124m'\u001B[39m\n\u001B[1;32m      9\u001B[0m \u001B[38;5;66;03m# xarray.open_dataset을 사용하여 GRIB 파일 열기\u001B[39;00m\n\u001B[0;32m---> 10\u001B[0m ds \u001B[38;5;241m=\u001B[39m \u001B[43mxr\u001B[49m\u001B[38;5;241;43m.\u001B[39;49m\u001B[43mopen_dataset\u001B[49m\u001B[43m(\u001B[49m\u001B[43mgrib_file_path\u001B[49m\u001B[43m,\u001B[49m\u001B[43m \u001B[49m\u001B[43mengine\u001B[49m\u001B[38;5;241;43m=\u001B[39;49m\u001B[38;5;124;43m'\u001B[39;49m\u001B[38;5;124;43mcfgrib\u001B[39;49m\u001B[38;5;124;43m'\u001B[39;49m\u001B[43m)\u001B[49m\n\u001B[1;32m     12\u001B[0m \u001B[38;5;28mprint\u001B[39m(ds)\n",
      "File \u001B[0;32m~/miniforge3/envs/sdlee_test/lib/python3.11/site-packages/xarray/backends/api.py:572\u001B[0m, in \u001B[0;36mopen_dataset\u001B[0;34m(filename_or_obj, engine, chunks, cache, decode_cf, mask_and_scale, decode_times, decode_timedelta, use_cftime, concat_characters, decode_coords, drop_variables, inline_array, chunked_array_type, from_array_kwargs, backend_kwargs, **kwargs)\u001B[0m\n\u001B[1;32m    560\u001B[0m decoders \u001B[38;5;241m=\u001B[39m _resolve_decoders_kwargs(\n\u001B[1;32m    561\u001B[0m     decode_cf,\n\u001B[1;32m    562\u001B[0m     open_backend_dataset_parameters\u001B[38;5;241m=\u001B[39mbackend\u001B[38;5;241m.\u001B[39mopen_dataset_parameters,\n\u001B[0;32m   (...)\u001B[0m\n\u001B[1;32m    568\u001B[0m     decode_coords\u001B[38;5;241m=\u001B[39mdecode_coords,\n\u001B[1;32m    569\u001B[0m )\n\u001B[1;32m    571\u001B[0m overwrite_encoded_chunks \u001B[38;5;241m=\u001B[39m kwargs\u001B[38;5;241m.\u001B[39mpop(\u001B[38;5;124m\"\u001B[39m\u001B[38;5;124moverwrite_encoded_chunks\u001B[39m\u001B[38;5;124m\"\u001B[39m, \u001B[38;5;28;01mNone\u001B[39;00m)\n\u001B[0;32m--> 572\u001B[0m backend_ds \u001B[38;5;241m=\u001B[39m \u001B[43mbackend\u001B[49m\u001B[38;5;241;43m.\u001B[39;49m\u001B[43mopen_dataset\u001B[49m\u001B[43m(\u001B[49m\n\u001B[1;32m    573\u001B[0m \u001B[43m    \u001B[49m\u001B[43mfilename_or_obj\u001B[49m\u001B[43m,\u001B[49m\n\u001B[1;32m    574\u001B[0m \u001B[43m    \u001B[49m\u001B[43mdrop_variables\u001B[49m\u001B[38;5;241;43m=\u001B[39;49m\u001B[43mdrop_variables\u001B[49m\u001B[43m,\u001B[49m\n\u001B[1;32m    575\u001B[0m \u001B[43m    \u001B[49m\u001B[38;5;241;43m*\u001B[39;49m\u001B[38;5;241;43m*\u001B[39;49m\u001B[43mdecoders\u001B[49m\u001B[43m,\u001B[49m\n\u001B[1;32m    576\u001B[0m \u001B[43m    \u001B[49m\u001B[38;5;241;43m*\u001B[39;49m\u001B[38;5;241;43m*\u001B[39;49m\u001B[43mkwargs\u001B[49m\u001B[43m,\u001B[49m\n\u001B[1;32m    577\u001B[0m \u001B[43m\u001B[49m\u001B[43m)\u001B[49m\n\u001B[1;32m    578\u001B[0m ds \u001B[38;5;241m=\u001B[39m _dataset_from_backend_dataset(\n\u001B[1;32m    579\u001B[0m     backend_ds,\n\u001B[1;32m    580\u001B[0m     filename_or_obj,\n\u001B[0;32m   (...)\u001B[0m\n\u001B[1;32m    590\u001B[0m     \u001B[38;5;241m*\u001B[39m\u001B[38;5;241m*\u001B[39mkwargs,\n\u001B[1;32m    591\u001B[0m )\n\u001B[1;32m    592\u001B[0m \u001B[38;5;28;01mreturn\u001B[39;00m ds\n",
      "File \u001B[0;32m~/miniforge3/envs/sdlee_test/lib/python3.11/site-packages/cfgrib/xarray_plugin.py:108\u001B[0m, in \u001B[0;36mCfGribBackend.open_dataset\u001B[0;34m(self, filename_or_obj, mask_and_scale, decode_times, concat_characters, decode_coords, drop_variables, use_cftime, decode_timedelta, lock, indexpath, filter_by_keys, read_keys, encode_cf, squeeze, time_dims, errors, extra_coords)\u001B[0m\n\u001B[1;32m     87\u001B[0m \u001B[38;5;28;01mdef\u001B[39;00m \u001B[38;5;21mopen_dataset\u001B[39m(\n\u001B[1;32m     88\u001B[0m     \u001B[38;5;28mself\u001B[39m,\n\u001B[1;32m     89\u001B[0m     filename_or_obj: T\u001B[38;5;241m.\u001B[39mUnion[\u001B[38;5;28mstr\u001B[39m, abc\u001B[38;5;241m.\u001B[39mMappingFieldset[T\u001B[38;5;241m.\u001B[39mAny, abc\u001B[38;5;241m.\u001B[39mField]],\n\u001B[0;32m   (...)\u001B[0m\n\u001B[1;32m    106\u001B[0m     extra_coords: T\u001B[38;5;241m.\u001B[39mDict[\u001B[38;5;28mstr\u001B[39m, \u001B[38;5;28mstr\u001B[39m] \u001B[38;5;241m=\u001B[39m {},\n\u001B[1;32m    107\u001B[0m ) \u001B[38;5;241m-\u001B[39m\u001B[38;5;241m>\u001B[39m xr\u001B[38;5;241m.\u001B[39mDataset:\n\u001B[0;32m--> 108\u001B[0m     store \u001B[38;5;241m=\u001B[39m \u001B[43mCfGribDataStore\u001B[49m\u001B[43m(\u001B[49m\n\u001B[1;32m    109\u001B[0m \u001B[43m        \u001B[49m\u001B[43mfilename_or_obj\u001B[49m\u001B[43m,\u001B[49m\n\u001B[1;32m    110\u001B[0m \u001B[43m        \u001B[49m\u001B[43mindexpath\u001B[49m\u001B[38;5;241;43m=\u001B[39;49m\u001B[43mindexpath\u001B[49m\u001B[43m,\u001B[49m\n\u001B[1;32m    111\u001B[0m \u001B[43m        \u001B[49m\u001B[43mfilter_by_keys\u001B[49m\u001B[38;5;241;43m=\u001B[39;49m\u001B[43mfilter_by_keys\u001B[49m\u001B[43m,\u001B[49m\n\u001B[1;32m    112\u001B[0m \u001B[43m        \u001B[49m\u001B[43mread_keys\u001B[49m\u001B[38;5;241;43m=\u001B[39;49m\u001B[43mread_keys\u001B[49m\u001B[43m,\u001B[49m\n\u001B[1;32m    113\u001B[0m \u001B[43m        \u001B[49m\u001B[43mencode_cf\u001B[49m\u001B[38;5;241;43m=\u001B[39;49m\u001B[43mencode_cf\u001B[49m\u001B[43m,\u001B[49m\n\u001B[1;32m    114\u001B[0m \u001B[43m        \u001B[49m\u001B[43msqueeze\u001B[49m\u001B[38;5;241;43m=\u001B[39;49m\u001B[43msqueeze\u001B[49m\u001B[43m,\u001B[49m\n\u001B[1;32m    115\u001B[0m \u001B[43m        \u001B[49m\u001B[43mtime_dims\u001B[49m\u001B[38;5;241;43m=\u001B[39;49m\u001B[43mtime_dims\u001B[49m\u001B[43m,\u001B[49m\n\u001B[1;32m    116\u001B[0m \u001B[43m        \u001B[49m\u001B[43mlock\u001B[49m\u001B[38;5;241;43m=\u001B[39;49m\u001B[43mlock\u001B[49m\u001B[43m,\u001B[49m\n\u001B[1;32m    117\u001B[0m \u001B[43m        \u001B[49m\u001B[43merrors\u001B[49m\u001B[38;5;241;43m=\u001B[39;49m\u001B[43merrors\u001B[49m\u001B[43m,\u001B[49m\n\u001B[1;32m    118\u001B[0m \u001B[43m        \u001B[49m\u001B[43mextra_coords\u001B[49m\u001B[38;5;241;43m=\u001B[39;49m\u001B[43mextra_coords\u001B[49m\u001B[43m,\u001B[49m\n\u001B[1;32m    119\u001B[0m \u001B[43m    \u001B[49m\u001B[43m)\u001B[49m\n\u001B[1;32m    120\u001B[0m     \u001B[38;5;28;01mwith\u001B[39;00m xr\u001B[38;5;241m.\u001B[39mcore\u001B[38;5;241m.\u001B[39mutils\u001B[38;5;241m.\u001B[39mclose_on_error(store):\n\u001B[1;32m    121\u001B[0m         \u001B[38;5;28mvars\u001B[39m, attrs \u001B[38;5;241m=\u001B[39m store\u001B[38;5;241m.\u001B[39mload()  \u001B[38;5;66;03m# type: ignore\u001B[39;00m\n",
      "File \u001B[0;32m~/miniforge3/envs/sdlee_test/lib/python3.11/site-packages/cfgrib/xarray_plugin.py:40\u001B[0m, in \u001B[0;36mCfGribDataStore.__init__\u001B[0;34m(self, filename, lock, **backend_kwargs)\u001B[0m\n\u001B[1;32m     38\u001B[0m \u001B[38;5;28;01melse\u001B[39;00m:\n\u001B[1;32m     39\u001B[0m     opener \u001B[38;5;241m=\u001B[39m dataset\u001B[38;5;241m.\u001B[39mopen_fieldset\n\u001B[0;32m---> 40\u001B[0m \u001B[38;5;28mself\u001B[39m\u001B[38;5;241m.\u001B[39mds \u001B[38;5;241m=\u001B[39m \u001B[43mopener\u001B[49m\u001B[43m(\u001B[49m\u001B[43mfilename\u001B[49m\u001B[43m,\u001B[49m\u001B[43m \u001B[49m\u001B[38;5;241;43m*\u001B[39;49m\u001B[38;5;241;43m*\u001B[39;49m\u001B[43mbackend_kwargs\u001B[49m\u001B[43m)\u001B[49m\n",
      "File \u001B[0;32m~/miniforge3/envs/sdlee_test/lib/python3.11/site-packages/cfgrib/dataset.py:784\u001B[0m, in \u001B[0;36mopen_file\u001B[0;34m(path, grib_errors, indexpath, filter_by_keys, read_keys, time_dims, extra_coords, **kwargs)\u001B[0m\n\u001B[1;32m    781\u001B[0m index_keys \u001B[38;5;241m=\u001B[39m compute_index_keys(time_dims, extra_coords)\n\u001B[1;32m    782\u001B[0m index \u001B[38;5;241m=\u001B[39m open_fileindex(stream, indexpath, index_keys, filter_by_keys\u001B[38;5;241m=\u001B[39mfilter_by_keys)\n\u001B[0;32m--> 784\u001B[0m \u001B[38;5;28;01mreturn\u001B[39;00m \u001B[43mopen_from_index\u001B[49m\u001B[43m(\u001B[49m\u001B[43mindex\u001B[49m\u001B[43m,\u001B[49m\u001B[43m \u001B[49m\u001B[43mread_keys\u001B[49m\u001B[43m,\u001B[49m\u001B[43m \u001B[49m\u001B[43mtime_dims\u001B[49m\u001B[43m,\u001B[49m\u001B[43m \u001B[49m\u001B[43mextra_coords\u001B[49m\u001B[43m,\u001B[49m\u001B[43m \u001B[49m\u001B[38;5;241;43m*\u001B[39;49m\u001B[38;5;241;43m*\u001B[39;49m\u001B[43mkwargs\u001B[49m\u001B[43m)\u001B[49m\n",
      "File \u001B[0;32m~/miniforge3/envs/sdlee_test/lib/python3.11/site-packages/cfgrib/dataset.py:726\u001B[0m, in \u001B[0;36mopen_from_index\u001B[0;34m(index, read_keys, time_dims, extra_coords, **kwargs)\u001B[0m\n\u001B[1;32m    719\u001B[0m \u001B[38;5;28;01mdef\u001B[39;00m \u001B[38;5;21mopen_from_index\u001B[39m(\n\u001B[1;32m    720\u001B[0m     index: abc\u001B[38;5;241m.\u001B[39mIndex[T\u001B[38;5;241m.\u001B[39mAny, abc\u001B[38;5;241m.\u001B[39mField],\n\u001B[1;32m    721\u001B[0m     read_keys: T\u001B[38;5;241m.\u001B[39mSequence[\u001B[38;5;28mstr\u001B[39m] \u001B[38;5;241m=\u001B[39m (),\n\u001B[0;32m   (...)\u001B[0m\n\u001B[1;32m    724\u001B[0m     \u001B[38;5;241m*\u001B[39m\u001B[38;5;241m*\u001B[39mkwargs: T\u001B[38;5;241m.\u001B[39mAny,\n\u001B[1;32m    725\u001B[0m ) \u001B[38;5;241m-\u001B[39m\u001B[38;5;241m>\u001B[39m Dataset:\n\u001B[0;32m--> 726\u001B[0m     dimensions, variables, attributes, encoding \u001B[38;5;241m=\u001B[39m \u001B[43mbuild_dataset_components\u001B[49m\u001B[43m(\u001B[49m\n\u001B[1;32m    727\u001B[0m \u001B[43m        \u001B[49m\u001B[43mindex\u001B[49m\u001B[43m,\u001B[49m\u001B[43m \u001B[49m\u001B[43mread_keys\u001B[49m\u001B[38;5;241;43m=\u001B[39;49m\u001B[43mread_keys\u001B[49m\u001B[43m,\u001B[49m\u001B[43m \u001B[49m\u001B[43mtime_dims\u001B[49m\u001B[38;5;241;43m=\u001B[39;49m\u001B[43mtime_dims\u001B[49m\u001B[43m,\u001B[49m\u001B[43m \u001B[49m\u001B[43mextra_coords\u001B[49m\u001B[38;5;241;43m=\u001B[39;49m\u001B[43mextra_coords\u001B[49m\u001B[43m,\u001B[49m\u001B[43m \u001B[49m\u001B[38;5;241;43m*\u001B[39;49m\u001B[38;5;241;43m*\u001B[39;49m\u001B[43mkwargs\u001B[49m\n\u001B[1;32m    728\u001B[0m \u001B[43m    \u001B[49m\u001B[43m)\u001B[49m\n\u001B[1;32m    729\u001B[0m     \u001B[38;5;28;01mreturn\u001B[39;00m Dataset(dimensions, variables, attributes, encoding)\n",
      "File \u001B[0;32m~/miniforge3/envs/sdlee_test/lib/python3.11/site-packages/cfgrib/dataset.py:674\u001B[0m, in \u001B[0;36mbuild_dataset_components\u001B[0;34m(index, errors, encode_cf, squeeze, log, read_keys, time_dims, extra_coords)\u001B[0m\n\u001B[1;32m    672\u001B[0m         fbks\u001B[38;5;241m.\u001B[39mappend(fbk)\n\u001B[1;32m    673\u001B[0m         error_message \u001B[38;5;241m+\u001B[39m\u001B[38;5;241m=\u001B[39m \u001B[38;5;124m\"\u001B[39m\u001B[38;5;130;01m\\n\u001B[39;00m\u001B[38;5;124m    filter_by_keys=\u001B[39m\u001B[38;5;132;01m%r\u001B[39;00m\u001B[38;5;124m\"\u001B[39m \u001B[38;5;241m%\u001B[39m fbk\n\u001B[0;32m--> 674\u001B[0m     \u001B[38;5;28;01mraise\u001B[39;00m DatasetBuildError(error_message, key, fbks)\n\u001B[1;32m    675\u001B[0m short_name \u001B[38;5;241m=\u001B[39m data_var\u001B[38;5;241m.\u001B[39mattributes\u001B[38;5;241m.\u001B[39mget(\u001B[38;5;124m\"\u001B[39m\u001B[38;5;124mGRIB_shortName\u001B[39m\u001B[38;5;124m\"\u001B[39m, \u001B[38;5;124m\"\u001B[39m\u001B[38;5;124mparamId_\u001B[39m\u001B[38;5;132;01m%d\u001B[39;00m\u001B[38;5;124m\"\u001B[39m \u001B[38;5;241m%\u001B[39m param_id)\n\u001B[1;32m    676\u001B[0m var_name \u001B[38;5;241m=\u001B[39m data_var\u001B[38;5;241m.\u001B[39mattributes\u001B[38;5;241m.\u001B[39mget(\u001B[38;5;124m\"\u001B[39m\u001B[38;5;124mGRIB_cfVarName\u001B[39m\u001B[38;5;124m\"\u001B[39m, \u001B[38;5;124m\"\u001B[39m\u001B[38;5;124munknown\u001B[39m\u001B[38;5;124m\"\u001B[39m)\n",
      "\u001B[0;31mDatasetBuildError\u001B[0m: multiple values for unique key, try re-open the file with one of:\n    filter_by_keys={'typeOfLevel': 'surface'}\n    filter_by_keys={'typeOfLevel': 'nominalTop'}\n    filter_by_keys={'typeOfLevel': 'heightAboveGround'}\n    filter_by_keys={'typeOfLevel': 'depthBelowLandLayer'}\n    filter_by_keys={'typeOfLevel': 'unknown'}\n    filter_by_keys={'typeOfLevel': 'entireAtmosphere'}\n    filter_by_keys={'typeOfLevel': 'isothermZero'}\n    filter_by_keys={'typeOfLevel': 'meanSea'}"
     ]
    }
   ],
   "source": [
    "import cf2cdm\n",
    "import xarray as xr\n",
    "import cfgrib\n",
    "\n",
    "\n",
    "# GRIB 파일 경로 설정\n",
    "grib_file_path = 'g100_v070_erea_unis_h006.2023050212.grib2'\n",
    "\n",
    "# xarray.open_dataset을 사용하여 GRIB 파일 열기\n",
    "ds = xr.open_dataset(grib_file_path, engine='cfgrib',backend_kwargs={'filter_by_keys':{'typeOfLevel': 'heightAboveGround', 'level':10}})\n",
    "\n",
    "print(ds)"
   ],
   "metadata": {
    "collapsed": false,
    "ExecuteTime": {
     "end_time": "2024-01-24T00:39:41.789293Z",
     "start_time": "2024-01-24T00:39:41.726578Z"
    }
   },
   "id": "8f9b6db1bb24ef87",
   "execution_count": 11
  },
  {
   "cell_type": "code",
   "outputs": [
    {
     "ename": "DatasetBuildError",
     "evalue": "multiple values for unique key, try re-open the file with one of:\n    filter_by_keys={'stepType': 'avg', 'typeOfLevel': 'heightAboveGround'}\n    filter_by_keys={'stepType': 'instant', 'typeOfLevel': 'heightAboveGround'}\n    filter_by_keys={'stepType': 'min', 'typeOfLevel': 'heightAboveGround'}\n    filter_by_keys={'stepType': 'max', 'typeOfLevel': 'heightAboveGround'}",
     "output_type": "error",
     "traceback": [
      "\u001B[0;31m---------------------------------------------------------------------------\u001B[0m",
      "\u001B[0;31mDatasetBuildError\u001B[0m                         Traceback (most recent call last)",
      "File \u001B[0;32m~/miniforge3/envs/sdlee_test/lib/python3.11/site-packages/cfgrib/dataset.py:653\u001B[0m, in \u001B[0;36mbuild_dataset_components\u001B[0;34m(index, errors, encode_cf, squeeze, log, read_keys, time_dims, extra_coords)\u001B[0m\n\u001B[1;32m    652\u001B[0m \u001B[38;5;28;01mtry\u001B[39;00m:\n\u001B[0;32m--> 653\u001B[0m     dims, data_var, coord_vars \u001B[38;5;241m=\u001B[39m \u001B[43mbuild_variable_components\u001B[49m\u001B[43m(\u001B[49m\n\u001B[1;32m    654\u001B[0m \u001B[43m        \u001B[49m\u001B[43mvar_index\u001B[49m\u001B[43m,\u001B[49m\n\u001B[1;32m    655\u001B[0m \u001B[43m        \u001B[49m\u001B[43mencode_cf\u001B[49m\u001B[43m,\u001B[49m\n\u001B[1;32m    656\u001B[0m \u001B[43m        \u001B[49m\u001B[43mfilter_by_keys\u001B[49m\u001B[43m,\u001B[49m\n\u001B[1;32m    657\u001B[0m \u001B[43m        \u001B[49m\u001B[43merrors\u001B[49m\u001B[38;5;241;43m=\u001B[39;49m\u001B[43merrors\u001B[49m\u001B[43m,\u001B[49m\n\u001B[1;32m    658\u001B[0m \u001B[43m        \u001B[49m\u001B[43msqueeze\u001B[49m\u001B[38;5;241;43m=\u001B[39;49m\u001B[43msqueeze\u001B[49m\u001B[43m,\u001B[49m\n\u001B[1;32m    659\u001B[0m \u001B[43m        \u001B[49m\u001B[43mread_keys\u001B[49m\u001B[38;5;241;43m=\u001B[39;49m\u001B[43mread_keys\u001B[49m\u001B[43m,\u001B[49m\n\u001B[1;32m    660\u001B[0m \u001B[43m        \u001B[49m\u001B[43mtime_dims\u001B[49m\u001B[38;5;241;43m=\u001B[39;49m\u001B[43mtime_dims\u001B[49m\u001B[43m,\u001B[49m\n\u001B[1;32m    661\u001B[0m \u001B[43m        \u001B[49m\u001B[43mextra_coords\u001B[49m\u001B[38;5;241;43m=\u001B[39;49m\u001B[43mextra_coords\u001B[49m\u001B[43m,\u001B[49m\n\u001B[1;32m    662\u001B[0m \u001B[43m    \u001B[49m\u001B[43m)\u001B[49m\n\u001B[1;32m    663\u001B[0m \u001B[38;5;28;01mexcept\u001B[39;00m DatasetBuildError \u001B[38;5;28;01mas\u001B[39;00m ex:\n\u001B[1;32m    664\u001B[0m     \u001B[38;5;66;03m# NOTE: When a variable has more than one value for an attribute we need to raise all\u001B[39;00m\n\u001B[1;32m    665\u001B[0m     \u001B[38;5;66;03m#   the values in the file, not just the ones associated with that variable. See #54.\u001B[39;00m\n",
      "File \u001B[0;32m~/miniforge3/envs/sdlee_test/lib/python3.11/site-packages/cfgrib/dataset.py:490\u001B[0m, in \u001B[0;36mbuild_variable_components\u001B[0;34m(index, encode_cf, filter_by_keys, log, errors, squeeze, read_keys, time_dims, extra_coords)\u001B[0m\n\u001B[1;32m    479\u001B[0m \u001B[38;5;28;01mdef\u001B[39;00m \u001B[38;5;21mbuild_variable_components\u001B[39m(\n\u001B[1;32m    480\u001B[0m     index: abc\u001B[38;5;241m.\u001B[39mIndex[T\u001B[38;5;241m.\u001B[39mAny, abc\u001B[38;5;241m.\u001B[39mField],\n\u001B[1;32m    481\u001B[0m     encode_cf: T\u001B[38;5;241m.\u001B[39mSequence[\u001B[38;5;28mstr\u001B[39m] \u001B[38;5;241m=\u001B[39m (),\n\u001B[0;32m   (...)\u001B[0m\n\u001B[1;32m    488\u001B[0m     extra_coords: T\u001B[38;5;241m.\u001B[39mDict[\u001B[38;5;28mstr\u001B[39m, \u001B[38;5;28mstr\u001B[39m] \u001B[38;5;241m=\u001B[39m {},\n\u001B[1;32m    489\u001B[0m ) \u001B[38;5;241m-\u001B[39m\u001B[38;5;241m>\u001B[39m T\u001B[38;5;241m.\u001B[39mTuple[T\u001B[38;5;241m.\u001B[39mDict[\u001B[38;5;28mstr\u001B[39m, \u001B[38;5;28mint\u001B[39m], Variable, T\u001B[38;5;241m.\u001B[39mDict[\u001B[38;5;28mstr\u001B[39m, Variable]]:\n\u001B[0;32m--> 490\u001B[0m     data_var_attrs \u001B[38;5;241m=\u001B[39m \u001B[43menforce_unique_attributes\u001B[49m\u001B[43m(\u001B[49m\u001B[43mindex\u001B[49m\u001B[43m,\u001B[49m\u001B[43m \u001B[49m\u001B[43mDATA_ATTRIBUTES_KEYS\u001B[49m\u001B[43m,\u001B[49m\u001B[43m \u001B[49m\u001B[43mfilter_by_keys\u001B[49m\u001B[43m)\u001B[49m\n\u001B[1;32m    491\u001B[0m     grid_type_keys \u001B[38;5;241m=\u001B[39m GRID_TYPE_MAP\u001B[38;5;241m.\u001B[39mget(index\u001B[38;5;241m.\u001B[39mgetone(\u001B[38;5;124m\"\u001B[39m\u001B[38;5;124mgridType\u001B[39m\u001B[38;5;124m\"\u001B[39m), [])\n",
      "File \u001B[0;32m~/miniforge3/envs/sdlee_test/lib/python3.11/site-packages/cfgrib/dataset.py:277\u001B[0m, in \u001B[0;36menforce_unique_attributes\u001B[0;34m(index, attributes_keys, filter_by_keys)\u001B[0m\n\u001B[1;32m    276\u001B[0m         fbks\u001B[38;5;241m.\u001B[39mappend(fbk)\n\u001B[0;32m--> 277\u001B[0m     \u001B[38;5;28;01mraise\u001B[39;00m DatasetBuildError(\u001B[38;5;124m\"\u001B[39m\u001B[38;5;124mmultiple values for key \u001B[39m\u001B[38;5;132;01m%r\u001B[39;00m\u001B[38;5;124m\"\u001B[39m \u001B[38;5;241m%\u001B[39m key, key, fbks)\n\u001B[1;32m    278\u001B[0m \u001B[38;5;28;01mif\u001B[39;00m values \u001B[38;5;129;01mand\u001B[39;00m values[\u001B[38;5;241m0\u001B[39m] \u001B[38;5;129;01mnot\u001B[39;00m \u001B[38;5;129;01min\u001B[39;00m (\u001B[38;5;124m\"\u001B[39m\u001B[38;5;124mundef\u001B[39m\u001B[38;5;124m\"\u001B[39m, \u001B[38;5;124m\"\u001B[39m\u001B[38;5;124munknown\u001B[39m\u001B[38;5;124m\"\u001B[39m):\n",
      "\u001B[0;31mDatasetBuildError\u001B[0m: multiple values for key 'stepType'",
      "\nDuring handling of the above exception, another exception occurred:\n",
      "\u001B[0;31mDatasetBuildError\u001B[0m                         Traceback (most recent call last)",
      "Cell \u001B[0;32mIn[14], line 10\u001B[0m\n\u001B[1;32m      7\u001B[0m grib_file_path \u001B[38;5;241m=\u001B[39m \u001B[38;5;124m'\u001B[39m\u001B[38;5;124mg100_v070_erea_unis_h006.2023050212.grib2\u001B[39m\u001B[38;5;124m'\u001B[39m\n\u001B[1;32m      9\u001B[0m \u001B[38;5;66;03m# xarray.open_dataset을 사용하여 GRIB 파일 열기\u001B[39;00m\n\u001B[0;32m---> 10\u001B[0m ds \u001B[38;5;241m=\u001B[39m \u001B[43mxr\u001B[49m\u001B[38;5;241;43m.\u001B[39;49m\u001B[43mopen_dataset\u001B[49m\u001B[43m(\u001B[49m\u001B[43mgrib_file_path\u001B[49m\u001B[43m,\u001B[49m\u001B[43m \u001B[49m\u001B[43mengine\u001B[49m\u001B[38;5;241;43m=\u001B[39;49m\u001B[38;5;124;43m'\u001B[39;49m\u001B[38;5;124;43mcfgrib\u001B[39;49m\u001B[38;5;124;43m'\u001B[39;49m\u001B[43m,\u001B[49m\u001B[43mbackend_kwargs\u001B[49m\u001B[38;5;241;43m=\u001B[39;49m\u001B[43m{\u001B[49m\u001B[38;5;124;43m'\u001B[39;49m\u001B[38;5;124;43mfilter_by_keys\u001B[39;49m\u001B[38;5;124;43m'\u001B[39;49m\u001B[43m:\u001B[49m\u001B[43m{\u001B[49m\u001B[38;5;124;43m'\u001B[39;49m\u001B[38;5;124;43mtypeOfLevel\u001B[39;49m\u001B[38;5;124;43m'\u001B[39;49m\u001B[43m:\u001B[49m\u001B[43m \u001B[49m\u001B[38;5;124;43m'\u001B[39;49m\u001B[38;5;124;43mheightAboveGround\u001B[39;49m\u001B[38;5;124;43m'\u001B[39;49m\u001B[43m}\u001B[49m\u001B[43m}\u001B[49m\u001B[43m)\u001B[49m\n\u001B[1;32m     12\u001B[0m \u001B[38;5;28mprint\u001B[39m(ds)\n",
      "File \u001B[0;32m~/miniforge3/envs/sdlee_test/lib/python3.11/site-packages/xarray/backends/api.py:572\u001B[0m, in \u001B[0;36mopen_dataset\u001B[0;34m(filename_or_obj, engine, chunks, cache, decode_cf, mask_and_scale, decode_times, decode_timedelta, use_cftime, concat_characters, decode_coords, drop_variables, inline_array, chunked_array_type, from_array_kwargs, backend_kwargs, **kwargs)\u001B[0m\n\u001B[1;32m    560\u001B[0m decoders \u001B[38;5;241m=\u001B[39m _resolve_decoders_kwargs(\n\u001B[1;32m    561\u001B[0m     decode_cf,\n\u001B[1;32m    562\u001B[0m     open_backend_dataset_parameters\u001B[38;5;241m=\u001B[39mbackend\u001B[38;5;241m.\u001B[39mopen_dataset_parameters,\n\u001B[0;32m   (...)\u001B[0m\n\u001B[1;32m    568\u001B[0m     decode_coords\u001B[38;5;241m=\u001B[39mdecode_coords,\n\u001B[1;32m    569\u001B[0m )\n\u001B[1;32m    571\u001B[0m overwrite_encoded_chunks \u001B[38;5;241m=\u001B[39m kwargs\u001B[38;5;241m.\u001B[39mpop(\u001B[38;5;124m\"\u001B[39m\u001B[38;5;124moverwrite_encoded_chunks\u001B[39m\u001B[38;5;124m\"\u001B[39m, \u001B[38;5;28;01mNone\u001B[39;00m)\n\u001B[0;32m--> 572\u001B[0m backend_ds \u001B[38;5;241m=\u001B[39m \u001B[43mbackend\u001B[49m\u001B[38;5;241;43m.\u001B[39;49m\u001B[43mopen_dataset\u001B[49m\u001B[43m(\u001B[49m\n\u001B[1;32m    573\u001B[0m \u001B[43m    \u001B[49m\u001B[43mfilename_or_obj\u001B[49m\u001B[43m,\u001B[49m\n\u001B[1;32m    574\u001B[0m \u001B[43m    \u001B[49m\u001B[43mdrop_variables\u001B[49m\u001B[38;5;241;43m=\u001B[39;49m\u001B[43mdrop_variables\u001B[49m\u001B[43m,\u001B[49m\n\u001B[1;32m    575\u001B[0m \u001B[43m    \u001B[49m\u001B[38;5;241;43m*\u001B[39;49m\u001B[38;5;241;43m*\u001B[39;49m\u001B[43mdecoders\u001B[49m\u001B[43m,\u001B[49m\n\u001B[1;32m    576\u001B[0m \u001B[43m    \u001B[49m\u001B[38;5;241;43m*\u001B[39;49m\u001B[38;5;241;43m*\u001B[39;49m\u001B[43mkwargs\u001B[49m\u001B[43m,\u001B[49m\n\u001B[1;32m    577\u001B[0m \u001B[43m\u001B[49m\u001B[43m)\u001B[49m\n\u001B[1;32m    578\u001B[0m ds \u001B[38;5;241m=\u001B[39m _dataset_from_backend_dataset(\n\u001B[1;32m    579\u001B[0m     backend_ds,\n\u001B[1;32m    580\u001B[0m     filename_or_obj,\n\u001B[0;32m   (...)\u001B[0m\n\u001B[1;32m    590\u001B[0m     \u001B[38;5;241m*\u001B[39m\u001B[38;5;241m*\u001B[39mkwargs,\n\u001B[1;32m    591\u001B[0m )\n\u001B[1;32m    592\u001B[0m \u001B[38;5;28;01mreturn\u001B[39;00m ds\n",
      "File \u001B[0;32m~/miniforge3/envs/sdlee_test/lib/python3.11/site-packages/cfgrib/xarray_plugin.py:108\u001B[0m, in \u001B[0;36mCfGribBackend.open_dataset\u001B[0;34m(self, filename_or_obj, mask_and_scale, decode_times, concat_characters, decode_coords, drop_variables, use_cftime, decode_timedelta, lock, indexpath, filter_by_keys, read_keys, encode_cf, squeeze, time_dims, errors, extra_coords)\u001B[0m\n\u001B[1;32m     87\u001B[0m \u001B[38;5;28;01mdef\u001B[39;00m \u001B[38;5;21mopen_dataset\u001B[39m(\n\u001B[1;32m     88\u001B[0m     \u001B[38;5;28mself\u001B[39m,\n\u001B[1;32m     89\u001B[0m     filename_or_obj: T\u001B[38;5;241m.\u001B[39mUnion[\u001B[38;5;28mstr\u001B[39m, abc\u001B[38;5;241m.\u001B[39mMappingFieldset[T\u001B[38;5;241m.\u001B[39mAny, abc\u001B[38;5;241m.\u001B[39mField]],\n\u001B[0;32m   (...)\u001B[0m\n\u001B[1;32m    106\u001B[0m     extra_coords: T\u001B[38;5;241m.\u001B[39mDict[\u001B[38;5;28mstr\u001B[39m, \u001B[38;5;28mstr\u001B[39m] \u001B[38;5;241m=\u001B[39m {},\n\u001B[1;32m    107\u001B[0m ) \u001B[38;5;241m-\u001B[39m\u001B[38;5;241m>\u001B[39m xr\u001B[38;5;241m.\u001B[39mDataset:\n\u001B[0;32m--> 108\u001B[0m     store \u001B[38;5;241m=\u001B[39m \u001B[43mCfGribDataStore\u001B[49m\u001B[43m(\u001B[49m\n\u001B[1;32m    109\u001B[0m \u001B[43m        \u001B[49m\u001B[43mfilename_or_obj\u001B[49m\u001B[43m,\u001B[49m\n\u001B[1;32m    110\u001B[0m \u001B[43m        \u001B[49m\u001B[43mindexpath\u001B[49m\u001B[38;5;241;43m=\u001B[39;49m\u001B[43mindexpath\u001B[49m\u001B[43m,\u001B[49m\n\u001B[1;32m    111\u001B[0m \u001B[43m        \u001B[49m\u001B[43mfilter_by_keys\u001B[49m\u001B[38;5;241;43m=\u001B[39;49m\u001B[43mfilter_by_keys\u001B[49m\u001B[43m,\u001B[49m\n\u001B[1;32m    112\u001B[0m \u001B[43m        \u001B[49m\u001B[43mread_keys\u001B[49m\u001B[38;5;241;43m=\u001B[39;49m\u001B[43mread_keys\u001B[49m\u001B[43m,\u001B[49m\n\u001B[1;32m    113\u001B[0m \u001B[43m        \u001B[49m\u001B[43mencode_cf\u001B[49m\u001B[38;5;241;43m=\u001B[39;49m\u001B[43mencode_cf\u001B[49m\u001B[43m,\u001B[49m\n\u001B[1;32m    114\u001B[0m \u001B[43m        \u001B[49m\u001B[43msqueeze\u001B[49m\u001B[38;5;241;43m=\u001B[39;49m\u001B[43msqueeze\u001B[49m\u001B[43m,\u001B[49m\n\u001B[1;32m    115\u001B[0m \u001B[43m        \u001B[49m\u001B[43mtime_dims\u001B[49m\u001B[38;5;241;43m=\u001B[39;49m\u001B[43mtime_dims\u001B[49m\u001B[43m,\u001B[49m\n\u001B[1;32m    116\u001B[0m \u001B[43m        \u001B[49m\u001B[43mlock\u001B[49m\u001B[38;5;241;43m=\u001B[39;49m\u001B[43mlock\u001B[49m\u001B[43m,\u001B[49m\n\u001B[1;32m    117\u001B[0m \u001B[43m        \u001B[49m\u001B[43merrors\u001B[49m\u001B[38;5;241;43m=\u001B[39;49m\u001B[43merrors\u001B[49m\u001B[43m,\u001B[49m\n\u001B[1;32m    118\u001B[0m \u001B[43m        \u001B[49m\u001B[43mextra_coords\u001B[49m\u001B[38;5;241;43m=\u001B[39;49m\u001B[43mextra_coords\u001B[49m\u001B[43m,\u001B[49m\n\u001B[1;32m    119\u001B[0m \u001B[43m    \u001B[49m\u001B[43m)\u001B[49m\n\u001B[1;32m    120\u001B[0m     \u001B[38;5;28;01mwith\u001B[39;00m xr\u001B[38;5;241m.\u001B[39mcore\u001B[38;5;241m.\u001B[39mutils\u001B[38;5;241m.\u001B[39mclose_on_error(store):\n\u001B[1;32m    121\u001B[0m         \u001B[38;5;28mvars\u001B[39m, attrs \u001B[38;5;241m=\u001B[39m store\u001B[38;5;241m.\u001B[39mload()  \u001B[38;5;66;03m# type: ignore\u001B[39;00m\n",
      "File \u001B[0;32m~/miniforge3/envs/sdlee_test/lib/python3.11/site-packages/cfgrib/xarray_plugin.py:40\u001B[0m, in \u001B[0;36mCfGribDataStore.__init__\u001B[0;34m(self, filename, lock, **backend_kwargs)\u001B[0m\n\u001B[1;32m     38\u001B[0m \u001B[38;5;28;01melse\u001B[39;00m:\n\u001B[1;32m     39\u001B[0m     opener \u001B[38;5;241m=\u001B[39m dataset\u001B[38;5;241m.\u001B[39mopen_fieldset\n\u001B[0;32m---> 40\u001B[0m \u001B[38;5;28mself\u001B[39m\u001B[38;5;241m.\u001B[39mds \u001B[38;5;241m=\u001B[39m \u001B[43mopener\u001B[49m\u001B[43m(\u001B[49m\u001B[43mfilename\u001B[49m\u001B[43m,\u001B[49m\u001B[43m \u001B[49m\u001B[38;5;241;43m*\u001B[39;49m\u001B[38;5;241;43m*\u001B[39;49m\u001B[43mbackend_kwargs\u001B[49m\u001B[43m)\u001B[49m\n",
      "File \u001B[0;32m~/miniforge3/envs/sdlee_test/lib/python3.11/site-packages/cfgrib/dataset.py:784\u001B[0m, in \u001B[0;36mopen_file\u001B[0;34m(path, grib_errors, indexpath, filter_by_keys, read_keys, time_dims, extra_coords, **kwargs)\u001B[0m\n\u001B[1;32m    781\u001B[0m index_keys \u001B[38;5;241m=\u001B[39m compute_index_keys(time_dims, extra_coords)\n\u001B[1;32m    782\u001B[0m index \u001B[38;5;241m=\u001B[39m open_fileindex(stream, indexpath, index_keys, filter_by_keys\u001B[38;5;241m=\u001B[39mfilter_by_keys)\n\u001B[0;32m--> 784\u001B[0m \u001B[38;5;28;01mreturn\u001B[39;00m \u001B[43mopen_from_index\u001B[49m\u001B[43m(\u001B[49m\u001B[43mindex\u001B[49m\u001B[43m,\u001B[49m\u001B[43m \u001B[49m\u001B[43mread_keys\u001B[49m\u001B[43m,\u001B[49m\u001B[43m \u001B[49m\u001B[43mtime_dims\u001B[49m\u001B[43m,\u001B[49m\u001B[43m \u001B[49m\u001B[43mextra_coords\u001B[49m\u001B[43m,\u001B[49m\u001B[43m \u001B[49m\u001B[38;5;241;43m*\u001B[39;49m\u001B[38;5;241;43m*\u001B[39;49m\u001B[43mkwargs\u001B[49m\u001B[43m)\u001B[49m\n",
      "File \u001B[0;32m~/miniforge3/envs/sdlee_test/lib/python3.11/site-packages/cfgrib/dataset.py:726\u001B[0m, in \u001B[0;36mopen_from_index\u001B[0;34m(index, read_keys, time_dims, extra_coords, **kwargs)\u001B[0m\n\u001B[1;32m    719\u001B[0m \u001B[38;5;28;01mdef\u001B[39;00m \u001B[38;5;21mopen_from_index\u001B[39m(\n\u001B[1;32m    720\u001B[0m     index: abc\u001B[38;5;241m.\u001B[39mIndex[T\u001B[38;5;241m.\u001B[39mAny, abc\u001B[38;5;241m.\u001B[39mField],\n\u001B[1;32m    721\u001B[0m     read_keys: T\u001B[38;5;241m.\u001B[39mSequence[\u001B[38;5;28mstr\u001B[39m] \u001B[38;5;241m=\u001B[39m (),\n\u001B[0;32m   (...)\u001B[0m\n\u001B[1;32m    724\u001B[0m     \u001B[38;5;241m*\u001B[39m\u001B[38;5;241m*\u001B[39mkwargs: T\u001B[38;5;241m.\u001B[39mAny,\n\u001B[1;32m    725\u001B[0m ) \u001B[38;5;241m-\u001B[39m\u001B[38;5;241m>\u001B[39m Dataset:\n\u001B[0;32m--> 726\u001B[0m     dimensions, variables, attributes, encoding \u001B[38;5;241m=\u001B[39m \u001B[43mbuild_dataset_components\u001B[49m\u001B[43m(\u001B[49m\n\u001B[1;32m    727\u001B[0m \u001B[43m        \u001B[49m\u001B[43mindex\u001B[49m\u001B[43m,\u001B[49m\u001B[43m \u001B[49m\u001B[43mread_keys\u001B[49m\u001B[38;5;241;43m=\u001B[39;49m\u001B[43mread_keys\u001B[49m\u001B[43m,\u001B[49m\u001B[43m \u001B[49m\u001B[43mtime_dims\u001B[49m\u001B[38;5;241;43m=\u001B[39;49m\u001B[43mtime_dims\u001B[49m\u001B[43m,\u001B[49m\u001B[43m \u001B[49m\u001B[43mextra_coords\u001B[49m\u001B[38;5;241;43m=\u001B[39;49m\u001B[43mextra_coords\u001B[49m\u001B[43m,\u001B[49m\u001B[43m \u001B[49m\u001B[38;5;241;43m*\u001B[39;49m\u001B[38;5;241;43m*\u001B[39;49m\u001B[43mkwargs\u001B[49m\n\u001B[1;32m    728\u001B[0m \u001B[43m    \u001B[49m\u001B[43m)\u001B[49m\n\u001B[1;32m    729\u001B[0m     \u001B[38;5;28;01mreturn\u001B[39;00m Dataset(dimensions, variables, attributes, encoding)\n",
      "File \u001B[0;32m~/miniforge3/envs/sdlee_test/lib/python3.11/site-packages/cfgrib/dataset.py:674\u001B[0m, in \u001B[0;36mbuild_dataset_components\u001B[0;34m(index, errors, encode_cf, squeeze, log, read_keys, time_dims, extra_coords)\u001B[0m\n\u001B[1;32m    672\u001B[0m         fbks\u001B[38;5;241m.\u001B[39mappend(fbk)\n\u001B[1;32m    673\u001B[0m         error_message \u001B[38;5;241m+\u001B[39m\u001B[38;5;241m=\u001B[39m \u001B[38;5;124m\"\u001B[39m\u001B[38;5;130;01m\\n\u001B[39;00m\u001B[38;5;124m    filter_by_keys=\u001B[39m\u001B[38;5;132;01m%r\u001B[39;00m\u001B[38;5;124m\"\u001B[39m \u001B[38;5;241m%\u001B[39m fbk\n\u001B[0;32m--> 674\u001B[0m     \u001B[38;5;28;01mraise\u001B[39;00m DatasetBuildError(error_message, key, fbks)\n\u001B[1;32m    675\u001B[0m short_name \u001B[38;5;241m=\u001B[39m data_var\u001B[38;5;241m.\u001B[39mattributes\u001B[38;5;241m.\u001B[39mget(\u001B[38;5;124m\"\u001B[39m\u001B[38;5;124mGRIB_shortName\u001B[39m\u001B[38;5;124m\"\u001B[39m, \u001B[38;5;124m\"\u001B[39m\u001B[38;5;124mparamId_\u001B[39m\u001B[38;5;132;01m%d\u001B[39;00m\u001B[38;5;124m\"\u001B[39m \u001B[38;5;241m%\u001B[39m param_id)\n\u001B[1;32m    676\u001B[0m var_name \u001B[38;5;241m=\u001B[39m data_var\u001B[38;5;241m.\u001B[39mattributes\u001B[38;5;241m.\u001B[39mget(\u001B[38;5;124m\"\u001B[39m\u001B[38;5;124mGRIB_cfVarName\u001B[39m\u001B[38;5;124m\"\u001B[39m, \u001B[38;5;124m\"\u001B[39m\u001B[38;5;124munknown\u001B[39m\u001B[38;5;124m\"\u001B[39m)\n",
      "\u001B[0;31mDatasetBuildError\u001B[0m: multiple values for unique key, try re-open the file with one of:\n    filter_by_keys={'stepType': 'avg', 'typeOfLevel': 'heightAboveGround'}\n    filter_by_keys={'stepType': 'instant', 'typeOfLevel': 'heightAboveGround'}\n    filter_by_keys={'stepType': 'min', 'typeOfLevel': 'heightAboveGround'}\n    filter_by_keys={'stepType': 'max', 'typeOfLevel': 'heightAboveGround'}"
     ]
    }
   ],
   "source": [
    "import cf2cdm\n",
    "import xarray as xr\n",
    "import cfgrib\n",
    "\n",
    "\n",
    "# GRIB 파일 경로 설정\n",
    "grib_file_path = 'g100_v070_erea_unis_h006.2023050212.grib2'\n",
    "\n",
    "# xarray.open_dataset을 사용하여 GRIB 파일 열기\n",
    "ds = xr.open_dataset(grib_file_path, engine='cfgrib',backend_kwargs={'filter_by_keys':{'typeOfLevel': 'heightAboveGround'}})\n",
    "\n",
    "print(ds)"
   ],
   "metadata": {
    "collapsed": false,
    "ExecuteTime": {
     "end_time": "2024-01-24T00:40:52.011038Z",
     "start_time": "2024-01-24T00:40:51.950041Z"
    }
   },
   "id": "fe0260361e367c12",
   "execution_count": 14
  },
  {
   "cell_type": "code",
   "outputs": [
    {
     "name": "stdout",
     "output_type": "stream",
     "text": [
      "<xarray.Dataset>\n",
      "Dimensions:            (latitude: 107, longitude: 64)\n",
      "Coordinates:\n",
      "    time               datetime64[ns] ...\n",
      "    step               timedelta64[ns] ...\n",
      "    heightAboveGround  float64 ...\n",
      "  * latitude           (latitude) float64 30.05 30.14 30.23 ... 39.8 39.89 39.98\n",
      "  * longitude          (longitude) float64 123.1 123.3 123.4 ... 131.8 132.0\n",
      "    valid_time         datetime64[ns] ...\n",
      "Data variables:\n",
      "    unknown            (latitude, longitude) float32 ...\n",
      "    u10                (latitude, longitude) float32 ...\n",
      "    v10                (latitude, longitude) float32 ...\n",
      "Attributes:\n",
      "    GRIB_edition:            2\n",
      "    GRIB_centre:             rksl\n",
      "    GRIB_centreDescription:  Seoul\n",
      "    GRIB_subCentre:          11\n",
      "    Conventions:             CF-1.7\n",
      "    institution:             Seoul\n",
      "    history:                 2024-01-24T09:43 GRIB to CDM+CF via cfgrib-0.9.1...\n"
     ]
    }
   ],
   "source": [
    "import cf2cdm\n",
    "import xarray as xr\n",
    "import cfgrib\n",
    "\n",
    "\n",
    "# GRIB 파일 경로 설정\n",
    "grib_file_path = 'g100_v070_erea_unis_h006.2023050212.grib2'\n",
    "\n",
    "# xarray.open_dataset을 사용하여 GRIB 파일 열기\n",
    "ds = xr.open_dataset(grib_file_path, engine='cfgrib',backend_kwargs={'filter_by_keys':{'typeOfLevel': 'heightAboveGround', 'level':10}})\n",
    "\n",
    "print(ds)"
   ],
   "metadata": {
    "collapsed": false,
    "ExecuteTime": {
     "end_time": "2024-01-24T00:43:20.688036Z",
     "start_time": "2024-01-24T00:43:20.564707Z"
    }
   },
   "id": "6ffcd35f9c5b4494",
   "execution_count": 16
  },
  {
   "cell_type": "code",
   "outputs": [
    {
     "ename": "DatasetBuildError",
     "evalue": "multiple values for unique key, try re-open the file with one of:\n    filter_by_keys={'typeOfLevel': 'meanSea'}\n    filter_by_keys={'typeOfLevel': 'hybrid'}\n    filter_by_keys={'typeOfLevel': 'atmosphere'}\n    filter_by_keys={'typeOfLevel': 'surface'}\n    filter_by_keys={'typeOfLevel': 'planetaryBoundaryLayer'}\n    filter_by_keys={'typeOfLevel': 'isobaricInPa'}\n    filter_by_keys={'typeOfLevel': 'isobaricInhPa'}\n    filter_by_keys={'typeOfLevel': 'heightAboveGround'}\n    filter_by_keys={'typeOfLevel': 'depthBelowLandLayer'}\n    filter_by_keys={'typeOfLevel': 'heightAboveSea'}\n    filter_by_keys={'typeOfLevel': 'atmosphereSingleLayer'}\n    filter_by_keys={'typeOfLevel': 'lowCloudLayer'}\n    filter_by_keys={'typeOfLevel': 'middleCloudLayer'}\n    filter_by_keys={'typeOfLevel': 'highCloudLayer'}\n    filter_by_keys={'typeOfLevel': 'cloudCeiling'}\n    filter_by_keys={'typeOfLevel': 'convectiveCloudBottom'}\n    filter_by_keys={'typeOfLevel': 'lowCloudBottom'}\n    filter_by_keys={'typeOfLevel': 'middleCloudBottom'}\n    filter_by_keys={'typeOfLevel': 'highCloudBottom'}\n    filter_by_keys={'typeOfLevel': 'convectiveCloudTop'}\n    filter_by_keys={'typeOfLevel': 'lowCloudTop'}\n    filter_by_keys={'typeOfLevel': 'middleCloudTop'}\n    filter_by_keys={'typeOfLevel': 'highCloudTop'}\n    filter_by_keys={'typeOfLevel': 'convectiveCloudLayer'}\n    filter_by_keys={'typeOfLevel': 'boundaryLayerCloudLayer'}\n    filter_by_keys={'typeOfLevel': 'nominalTop'}\n    filter_by_keys={'typeOfLevel': 'heightAboveGroundLayer'}\n    filter_by_keys={'typeOfLevel': 'tropopause'}\n    filter_by_keys={'typeOfLevel': 'maxWind'}\n    filter_by_keys={'typeOfLevel': 'isothermZero'}\n    filter_by_keys={'typeOfLevel': 'highestTroposphericFreezing'}\n    filter_by_keys={'typeOfLevel': 'pressureFromGroundLayer'}\n    filter_by_keys={'typeOfLevel': 'sigmaLayer'}\n    filter_by_keys={'typeOfLevel': 'sigma'}\n    filter_by_keys={'typeOfLevel': 'potentialVorticity'}",
     "output_type": "error",
     "traceback": [
      "\u001B[0;31m---------------------------------------------------------------------------\u001B[0m",
      "\u001B[0;31mDatasetBuildError\u001B[0m                         Traceback (most recent call last)",
      "File \u001B[0;32m~/miniforge3/envs/sdlee_test/lib/python3.11/site-packages/cfgrib/dataset.py:653\u001B[0m, in \u001B[0;36mbuild_dataset_components\u001B[0;34m(index, errors, encode_cf, squeeze, log, read_keys, time_dims, extra_coords)\u001B[0m\n\u001B[1;32m    652\u001B[0m \u001B[38;5;28;01mtry\u001B[39;00m:\n\u001B[0;32m--> 653\u001B[0m     dims, data_var, coord_vars \u001B[38;5;241m=\u001B[39m \u001B[43mbuild_variable_components\u001B[49m\u001B[43m(\u001B[49m\n\u001B[1;32m    654\u001B[0m \u001B[43m        \u001B[49m\u001B[43mvar_index\u001B[49m\u001B[43m,\u001B[49m\n\u001B[1;32m    655\u001B[0m \u001B[43m        \u001B[49m\u001B[43mencode_cf\u001B[49m\u001B[43m,\u001B[49m\n\u001B[1;32m    656\u001B[0m \u001B[43m        \u001B[49m\u001B[43mfilter_by_keys\u001B[49m\u001B[43m,\u001B[49m\n\u001B[1;32m    657\u001B[0m \u001B[43m        \u001B[49m\u001B[43merrors\u001B[49m\u001B[38;5;241;43m=\u001B[39;49m\u001B[43merrors\u001B[49m\u001B[43m,\u001B[49m\n\u001B[1;32m    658\u001B[0m \u001B[43m        \u001B[49m\u001B[43msqueeze\u001B[49m\u001B[38;5;241;43m=\u001B[39;49m\u001B[43msqueeze\u001B[49m\u001B[43m,\u001B[49m\n\u001B[1;32m    659\u001B[0m \u001B[43m        \u001B[49m\u001B[43mread_keys\u001B[49m\u001B[38;5;241;43m=\u001B[39;49m\u001B[43mread_keys\u001B[49m\u001B[43m,\u001B[49m\n\u001B[1;32m    660\u001B[0m \u001B[43m        \u001B[49m\u001B[43mtime_dims\u001B[49m\u001B[38;5;241;43m=\u001B[39;49m\u001B[43mtime_dims\u001B[49m\u001B[43m,\u001B[49m\n\u001B[1;32m    661\u001B[0m \u001B[43m        \u001B[49m\u001B[43mextra_coords\u001B[49m\u001B[38;5;241;43m=\u001B[39;49m\u001B[43mextra_coords\u001B[49m\u001B[43m,\u001B[49m\n\u001B[1;32m    662\u001B[0m \u001B[43m    \u001B[49m\u001B[43m)\u001B[49m\n\u001B[1;32m    663\u001B[0m \u001B[38;5;28;01mexcept\u001B[39;00m DatasetBuildError \u001B[38;5;28;01mas\u001B[39;00m ex:\n\u001B[1;32m    664\u001B[0m     \u001B[38;5;66;03m# NOTE: When a variable has more than one value for an attribute we need to raise all\u001B[39;00m\n\u001B[1;32m    665\u001B[0m     \u001B[38;5;66;03m#   the values in the file, not just the ones associated with that variable. See #54.\u001B[39;00m\n",
      "File \u001B[0;32m~/miniforge3/envs/sdlee_test/lib/python3.11/site-packages/cfgrib/dataset.py:490\u001B[0m, in \u001B[0;36mbuild_variable_components\u001B[0;34m(index, encode_cf, filter_by_keys, log, errors, squeeze, read_keys, time_dims, extra_coords)\u001B[0m\n\u001B[1;32m    479\u001B[0m \u001B[38;5;28;01mdef\u001B[39;00m \u001B[38;5;21mbuild_variable_components\u001B[39m(\n\u001B[1;32m    480\u001B[0m     index: abc\u001B[38;5;241m.\u001B[39mIndex[T\u001B[38;5;241m.\u001B[39mAny, abc\u001B[38;5;241m.\u001B[39mField],\n\u001B[1;32m    481\u001B[0m     encode_cf: T\u001B[38;5;241m.\u001B[39mSequence[\u001B[38;5;28mstr\u001B[39m] \u001B[38;5;241m=\u001B[39m (),\n\u001B[0;32m   (...)\u001B[0m\n\u001B[1;32m    488\u001B[0m     extra_coords: T\u001B[38;5;241m.\u001B[39mDict[\u001B[38;5;28mstr\u001B[39m, \u001B[38;5;28mstr\u001B[39m] \u001B[38;5;241m=\u001B[39m {},\n\u001B[1;32m    489\u001B[0m ) \u001B[38;5;241m-\u001B[39m\u001B[38;5;241m>\u001B[39m T\u001B[38;5;241m.\u001B[39mTuple[T\u001B[38;5;241m.\u001B[39mDict[\u001B[38;5;28mstr\u001B[39m, \u001B[38;5;28mint\u001B[39m], Variable, T\u001B[38;5;241m.\u001B[39mDict[\u001B[38;5;28mstr\u001B[39m, Variable]]:\n\u001B[0;32m--> 490\u001B[0m     data_var_attrs \u001B[38;5;241m=\u001B[39m \u001B[43menforce_unique_attributes\u001B[49m\u001B[43m(\u001B[49m\u001B[43mindex\u001B[49m\u001B[43m,\u001B[49m\u001B[43m \u001B[49m\u001B[43mDATA_ATTRIBUTES_KEYS\u001B[49m\u001B[43m,\u001B[49m\u001B[43m \u001B[49m\u001B[43mfilter_by_keys\u001B[49m\u001B[43m)\u001B[49m\n\u001B[1;32m    491\u001B[0m     grid_type_keys \u001B[38;5;241m=\u001B[39m GRID_TYPE_MAP\u001B[38;5;241m.\u001B[39mget(index\u001B[38;5;241m.\u001B[39mgetone(\u001B[38;5;124m\"\u001B[39m\u001B[38;5;124mgridType\u001B[39m\u001B[38;5;124m\"\u001B[39m), [])\n",
      "File \u001B[0;32m~/miniforge3/envs/sdlee_test/lib/python3.11/site-packages/cfgrib/dataset.py:277\u001B[0m, in \u001B[0;36menforce_unique_attributes\u001B[0;34m(index, attributes_keys, filter_by_keys)\u001B[0m\n\u001B[1;32m    276\u001B[0m         fbks\u001B[38;5;241m.\u001B[39mappend(fbk)\n\u001B[0;32m--> 277\u001B[0m     \u001B[38;5;28;01mraise\u001B[39;00m DatasetBuildError(\u001B[38;5;124m\"\u001B[39m\u001B[38;5;124mmultiple values for key \u001B[39m\u001B[38;5;132;01m%r\u001B[39;00m\u001B[38;5;124m\"\u001B[39m \u001B[38;5;241m%\u001B[39m key, key, fbks)\n\u001B[1;32m    278\u001B[0m \u001B[38;5;28;01mif\u001B[39;00m values \u001B[38;5;129;01mand\u001B[39;00m values[\u001B[38;5;241m0\u001B[39m] \u001B[38;5;129;01mnot\u001B[39;00m \u001B[38;5;129;01min\u001B[39;00m (\u001B[38;5;124m\"\u001B[39m\u001B[38;5;124mundef\u001B[39m\u001B[38;5;124m\"\u001B[39m, \u001B[38;5;124m\"\u001B[39m\u001B[38;5;124munknown\u001B[39m\u001B[38;5;124m\"\u001B[39m):\n",
      "\u001B[0;31mDatasetBuildError\u001B[0m: multiple values for key 'typeOfLevel'",
      "\nDuring handling of the above exception, another exception occurred:\n",
      "\u001B[0;31mDatasetBuildError\u001B[0m                         Traceback (most recent call last)",
      "Cell \u001B[0;32mIn[18], line 8\u001B[0m\n\u001B[1;32m      5\u001B[0m grib_file_path \u001B[38;5;241m=\u001B[39m \u001B[38;5;124m'\u001B[39m\u001B[38;5;124mgfs.0p25.2022020606.f013.grib2\u001B[39m\u001B[38;5;124m'\u001B[39m\n\u001B[1;32m      7\u001B[0m \u001B[38;5;66;03m# xarray.open_dataset을 사용하여 GRIB 파일 열기\u001B[39;00m\n\u001B[0;32m----> 8\u001B[0m ds \u001B[38;5;241m=\u001B[39m \u001B[43mxr\u001B[49m\u001B[38;5;241;43m.\u001B[39;49m\u001B[43mopen_dataset\u001B[49m\u001B[43m(\u001B[49m\u001B[43mgrib_file_path\u001B[49m\u001B[43m,\u001B[49m\u001B[43m \u001B[49m\u001B[43mengine\u001B[49m\u001B[38;5;241;43m=\u001B[39;49m\u001B[38;5;124;43m'\u001B[39;49m\u001B[38;5;124;43mcfgrib\u001B[39;49m\u001B[38;5;124;43m'\u001B[39;49m\u001B[43m)\u001B[49m\n\u001B[1;32m     10\u001B[0m \u001B[38;5;28mprint\u001B[39m(ds)\n",
      "File \u001B[0;32m~/miniforge3/envs/sdlee_test/lib/python3.11/site-packages/xarray/backends/api.py:572\u001B[0m, in \u001B[0;36mopen_dataset\u001B[0;34m(filename_or_obj, engine, chunks, cache, decode_cf, mask_and_scale, decode_times, decode_timedelta, use_cftime, concat_characters, decode_coords, drop_variables, inline_array, chunked_array_type, from_array_kwargs, backend_kwargs, **kwargs)\u001B[0m\n\u001B[1;32m    560\u001B[0m decoders \u001B[38;5;241m=\u001B[39m _resolve_decoders_kwargs(\n\u001B[1;32m    561\u001B[0m     decode_cf,\n\u001B[1;32m    562\u001B[0m     open_backend_dataset_parameters\u001B[38;5;241m=\u001B[39mbackend\u001B[38;5;241m.\u001B[39mopen_dataset_parameters,\n\u001B[0;32m   (...)\u001B[0m\n\u001B[1;32m    568\u001B[0m     decode_coords\u001B[38;5;241m=\u001B[39mdecode_coords,\n\u001B[1;32m    569\u001B[0m )\n\u001B[1;32m    571\u001B[0m overwrite_encoded_chunks \u001B[38;5;241m=\u001B[39m kwargs\u001B[38;5;241m.\u001B[39mpop(\u001B[38;5;124m\"\u001B[39m\u001B[38;5;124moverwrite_encoded_chunks\u001B[39m\u001B[38;5;124m\"\u001B[39m, \u001B[38;5;28;01mNone\u001B[39;00m)\n\u001B[0;32m--> 572\u001B[0m backend_ds \u001B[38;5;241m=\u001B[39m \u001B[43mbackend\u001B[49m\u001B[38;5;241;43m.\u001B[39;49m\u001B[43mopen_dataset\u001B[49m\u001B[43m(\u001B[49m\n\u001B[1;32m    573\u001B[0m \u001B[43m    \u001B[49m\u001B[43mfilename_or_obj\u001B[49m\u001B[43m,\u001B[49m\n\u001B[1;32m    574\u001B[0m \u001B[43m    \u001B[49m\u001B[43mdrop_variables\u001B[49m\u001B[38;5;241;43m=\u001B[39;49m\u001B[43mdrop_variables\u001B[49m\u001B[43m,\u001B[49m\n\u001B[1;32m    575\u001B[0m \u001B[43m    \u001B[49m\u001B[38;5;241;43m*\u001B[39;49m\u001B[38;5;241;43m*\u001B[39;49m\u001B[43mdecoders\u001B[49m\u001B[43m,\u001B[49m\n\u001B[1;32m    576\u001B[0m \u001B[43m    \u001B[49m\u001B[38;5;241;43m*\u001B[39;49m\u001B[38;5;241;43m*\u001B[39;49m\u001B[43mkwargs\u001B[49m\u001B[43m,\u001B[49m\n\u001B[1;32m    577\u001B[0m \u001B[43m\u001B[49m\u001B[43m)\u001B[49m\n\u001B[1;32m    578\u001B[0m ds \u001B[38;5;241m=\u001B[39m _dataset_from_backend_dataset(\n\u001B[1;32m    579\u001B[0m     backend_ds,\n\u001B[1;32m    580\u001B[0m     filename_or_obj,\n\u001B[0;32m   (...)\u001B[0m\n\u001B[1;32m    590\u001B[0m     \u001B[38;5;241m*\u001B[39m\u001B[38;5;241m*\u001B[39mkwargs,\n\u001B[1;32m    591\u001B[0m )\n\u001B[1;32m    592\u001B[0m \u001B[38;5;28;01mreturn\u001B[39;00m ds\n",
      "File \u001B[0;32m~/miniforge3/envs/sdlee_test/lib/python3.11/site-packages/cfgrib/xarray_plugin.py:108\u001B[0m, in \u001B[0;36mCfGribBackend.open_dataset\u001B[0;34m(self, filename_or_obj, mask_and_scale, decode_times, concat_characters, decode_coords, drop_variables, use_cftime, decode_timedelta, lock, indexpath, filter_by_keys, read_keys, encode_cf, squeeze, time_dims, errors, extra_coords)\u001B[0m\n\u001B[1;32m     87\u001B[0m \u001B[38;5;28;01mdef\u001B[39;00m \u001B[38;5;21mopen_dataset\u001B[39m(\n\u001B[1;32m     88\u001B[0m     \u001B[38;5;28mself\u001B[39m,\n\u001B[1;32m     89\u001B[0m     filename_or_obj: T\u001B[38;5;241m.\u001B[39mUnion[\u001B[38;5;28mstr\u001B[39m, abc\u001B[38;5;241m.\u001B[39mMappingFieldset[T\u001B[38;5;241m.\u001B[39mAny, abc\u001B[38;5;241m.\u001B[39mField]],\n\u001B[0;32m   (...)\u001B[0m\n\u001B[1;32m    106\u001B[0m     extra_coords: T\u001B[38;5;241m.\u001B[39mDict[\u001B[38;5;28mstr\u001B[39m, \u001B[38;5;28mstr\u001B[39m] \u001B[38;5;241m=\u001B[39m {},\n\u001B[1;32m    107\u001B[0m ) \u001B[38;5;241m-\u001B[39m\u001B[38;5;241m>\u001B[39m xr\u001B[38;5;241m.\u001B[39mDataset:\n\u001B[0;32m--> 108\u001B[0m     store \u001B[38;5;241m=\u001B[39m \u001B[43mCfGribDataStore\u001B[49m\u001B[43m(\u001B[49m\n\u001B[1;32m    109\u001B[0m \u001B[43m        \u001B[49m\u001B[43mfilename_or_obj\u001B[49m\u001B[43m,\u001B[49m\n\u001B[1;32m    110\u001B[0m \u001B[43m        \u001B[49m\u001B[43mindexpath\u001B[49m\u001B[38;5;241;43m=\u001B[39;49m\u001B[43mindexpath\u001B[49m\u001B[43m,\u001B[49m\n\u001B[1;32m    111\u001B[0m \u001B[43m        \u001B[49m\u001B[43mfilter_by_keys\u001B[49m\u001B[38;5;241;43m=\u001B[39;49m\u001B[43mfilter_by_keys\u001B[49m\u001B[43m,\u001B[49m\n\u001B[1;32m    112\u001B[0m \u001B[43m        \u001B[49m\u001B[43mread_keys\u001B[49m\u001B[38;5;241;43m=\u001B[39;49m\u001B[43mread_keys\u001B[49m\u001B[43m,\u001B[49m\n\u001B[1;32m    113\u001B[0m \u001B[43m        \u001B[49m\u001B[43mencode_cf\u001B[49m\u001B[38;5;241;43m=\u001B[39;49m\u001B[43mencode_cf\u001B[49m\u001B[43m,\u001B[49m\n\u001B[1;32m    114\u001B[0m \u001B[43m        \u001B[49m\u001B[43msqueeze\u001B[49m\u001B[38;5;241;43m=\u001B[39;49m\u001B[43msqueeze\u001B[49m\u001B[43m,\u001B[49m\n\u001B[1;32m    115\u001B[0m \u001B[43m        \u001B[49m\u001B[43mtime_dims\u001B[49m\u001B[38;5;241;43m=\u001B[39;49m\u001B[43mtime_dims\u001B[49m\u001B[43m,\u001B[49m\n\u001B[1;32m    116\u001B[0m \u001B[43m        \u001B[49m\u001B[43mlock\u001B[49m\u001B[38;5;241;43m=\u001B[39;49m\u001B[43mlock\u001B[49m\u001B[43m,\u001B[49m\n\u001B[1;32m    117\u001B[0m \u001B[43m        \u001B[49m\u001B[43merrors\u001B[49m\u001B[38;5;241;43m=\u001B[39;49m\u001B[43merrors\u001B[49m\u001B[43m,\u001B[49m\n\u001B[1;32m    118\u001B[0m \u001B[43m        \u001B[49m\u001B[43mextra_coords\u001B[49m\u001B[38;5;241;43m=\u001B[39;49m\u001B[43mextra_coords\u001B[49m\u001B[43m,\u001B[49m\n\u001B[1;32m    119\u001B[0m \u001B[43m    \u001B[49m\u001B[43m)\u001B[49m\n\u001B[1;32m    120\u001B[0m     \u001B[38;5;28;01mwith\u001B[39;00m xr\u001B[38;5;241m.\u001B[39mcore\u001B[38;5;241m.\u001B[39mutils\u001B[38;5;241m.\u001B[39mclose_on_error(store):\n\u001B[1;32m    121\u001B[0m         \u001B[38;5;28mvars\u001B[39m, attrs \u001B[38;5;241m=\u001B[39m store\u001B[38;5;241m.\u001B[39mload()  \u001B[38;5;66;03m# type: ignore\u001B[39;00m\n",
      "File \u001B[0;32m~/miniforge3/envs/sdlee_test/lib/python3.11/site-packages/cfgrib/xarray_plugin.py:40\u001B[0m, in \u001B[0;36mCfGribDataStore.__init__\u001B[0;34m(self, filename, lock, **backend_kwargs)\u001B[0m\n\u001B[1;32m     38\u001B[0m \u001B[38;5;28;01melse\u001B[39;00m:\n\u001B[1;32m     39\u001B[0m     opener \u001B[38;5;241m=\u001B[39m dataset\u001B[38;5;241m.\u001B[39mopen_fieldset\n\u001B[0;32m---> 40\u001B[0m \u001B[38;5;28mself\u001B[39m\u001B[38;5;241m.\u001B[39mds \u001B[38;5;241m=\u001B[39m \u001B[43mopener\u001B[49m\u001B[43m(\u001B[49m\u001B[43mfilename\u001B[49m\u001B[43m,\u001B[49m\u001B[43m \u001B[49m\u001B[38;5;241;43m*\u001B[39;49m\u001B[38;5;241;43m*\u001B[39;49m\u001B[43mbackend_kwargs\u001B[49m\u001B[43m)\u001B[49m\n",
      "File \u001B[0;32m~/miniforge3/envs/sdlee_test/lib/python3.11/site-packages/cfgrib/dataset.py:784\u001B[0m, in \u001B[0;36mopen_file\u001B[0;34m(path, grib_errors, indexpath, filter_by_keys, read_keys, time_dims, extra_coords, **kwargs)\u001B[0m\n\u001B[1;32m    781\u001B[0m index_keys \u001B[38;5;241m=\u001B[39m compute_index_keys(time_dims, extra_coords)\n\u001B[1;32m    782\u001B[0m index \u001B[38;5;241m=\u001B[39m open_fileindex(stream, indexpath, index_keys, filter_by_keys\u001B[38;5;241m=\u001B[39mfilter_by_keys)\n\u001B[0;32m--> 784\u001B[0m \u001B[38;5;28;01mreturn\u001B[39;00m \u001B[43mopen_from_index\u001B[49m\u001B[43m(\u001B[49m\u001B[43mindex\u001B[49m\u001B[43m,\u001B[49m\u001B[43m \u001B[49m\u001B[43mread_keys\u001B[49m\u001B[43m,\u001B[49m\u001B[43m \u001B[49m\u001B[43mtime_dims\u001B[49m\u001B[43m,\u001B[49m\u001B[43m \u001B[49m\u001B[43mextra_coords\u001B[49m\u001B[43m,\u001B[49m\u001B[43m \u001B[49m\u001B[38;5;241;43m*\u001B[39;49m\u001B[38;5;241;43m*\u001B[39;49m\u001B[43mkwargs\u001B[49m\u001B[43m)\u001B[49m\n",
      "File \u001B[0;32m~/miniforge3/envs/sdlee_test/lib/python3.11/site-packages/cfgrib/dataset.py:726\u001B[0m, in \u001B[0;36mopen_from_index\u001B[0;34m(index, read_keys, time_dims, extra_coords, **kwargs)\u001B[0m\n\u001B[1;32m    719\u001B[0m \u001B[38;5;28;01mdef\u001B[39;00m \u001B[38;5;21mopen_from_index\u001B[39m(\n\u001B[1;32m    720\u001B[0m     index: abc\u001B[38;5;241m.\u001B[39mIndex[T\u001B[38;5;241m.\u001B[39mAny, abc\u001B[38;5;241m.\u001B[39mField],\n\u001B[1;32m    721\u001B[0m     read_keys: T\u001B[38;5;241m.\u001B[39mSequence[\u001B[38;5;28mstr\u001B[39m] \u001B[38;5;241m=\u001B[39m (),\n\u001B[0;32m   (...)\u001B[0m\n\u001B[1;32m    724\u001B[0m     \u001B[38;5;241m*\u001B[39m\u001B[38;5;241m*\u001B[39mkwargs: T\u001B[38;5;241m.\u001B[39mAny,\n\u001B[1;32m    725\u001B[0m ) \u001B[38;5;241m-\u001B[39m\u001B[38;5;241m>\u001B[39m Dataset:\n\u001B[0;32m--> 726\u001B[0m     dimensions, variables, attributes, encoding \u001B[38;5;241m=\u001B[39m \u001B[43mbuild_dataset_components\u001B[49m\u001B[43m(\u001B[49m\n\u001B[1;32m    727\u001B[0m \u001B[43m        \u001B[49m\u001B[43mindex\u001B[49m\u001B[43m,\u001B[49m\u001B[43m \u001B[49m\u001B[43mread_keys\u001B[49m\u001B[38;5;241;43m=\u001B[39;49m\u001B[43mread_keys\u001B[49m\u001B[43m,\u001B[49m\u001B[43m \u001B[49m\u001B[43mtime_dims\u001B[49m\u001B[38;5;241;43m=\u001B[39;49m\u001B[43mtime_dims\u001B[49m\u001B[43m,\u001B[49m\u001B[43m \u001B[49m\u001B[43mextra_coords\u001B[49m\u001B[38;5;241;43m=\u001B[39;49m\u001B[43mextra_coords\u001B[49m\u001B[43m,\u001B[49m\u001B[43m \u001B[49m\u001B[38;5;241;43m*\u001B[39;49m\u001B[38;5;241;43m*\u001B[39;49m\u001B[43mkwargs\u001B[49m\n\u001B[1;32m    728\u001B[0m \u001B[43m    \u001B[49m\u001B[43m)\u001B[49m\n\u001B[1;32m    729\u001B[0m     \u001B[38;5;28;01mreturn\u001B[39;00m Dataset(dimensions, variables, attributes, encoding)\n",
      "File \u001B[0;32m~/miniforge3/envs/sdlee_test/lib/python3.11/site-packages/cfgrib/dataset.py:674\u001B[0m, in \u001B[0;36mbuild_dataset_components\u001B[0;34m(index, errors, encode_cf, squeeze, log, read_keys, time_dims, extra_coords)\u001B[0m\n\u001B[1;32m    672\u001B[0m         fbks\u001B[38;5;241m.\u001B[39mappend(fbk)\n\u001B[1;32m    673\u001B[0m         error_message \u001B[38;5;241m+\u001B[39m\u001B[38;5;241m=\u001B[39m \u001B[38;5;124m\"\u001B[39m\u001B[38;5;130;01m\\n\u001B[39;00m\u001B[38;5;124m    filter_by_keys=\u001B[39m\u001B[38;5;132;01m%r\u001B[39;00m\u001B[38;5;124m\"\u001B[39m \u001B[38;5;241m%\u001B[39m fbk\n\u001B[0;32m--> 674\u001B[0m     \u001B[38;5;28;01mraise\u001B[39;00m DatasetBuildError(error_message, key, fbks)\n\u001B[1;32m    675\u001B[0m short_name \u001B[38;5;241m=\u001B[39m data_var\u001B[38;5;241m.\u001B[39mattributes\u001B[38;5;241m.\u001B[39mget(\u001B[38;5;124m\"\u001B[39m\u001B[38;5;124mGRIB_shortName\u001B[39m\u001B[38;5;124m\"\u001B[39m, \u001B[38;5;124m\"\u001B[39m\u001B[38;5;124mparamId_\u001B[39m\u001B[38;5;132;01m%d\u001B[39;00m\u001B[38;5;124m\"\u001B[39m \u001B[38;5;241m%\u001B[39m param_id)\n\u001B[1;32m    676\u001B[0m var_name \u001B[38;5;241m=\u001B[39m data_var\u001B[38;5;241m.\u001B[39mattributes\u001B[38;5;241m.\u001B[39mget(\u001B[38;5;124m\"\u001B[39m\u001B[38;5;124mGRIB_cfVarName\u001B[39m\u001B[38;5;124m\"\u001B[39m, \u001B[38;5;124m\"\u001B[39m\u001B[38;5;124munknown\u001B[39m\u001B[38;5;124m\"\u001B[39m)\n",
      "\u001B[0;31mDatasetBuildError\u001B[0m: multiple values for unique key, try re-open the file with one of:\n    filter_by_keys={'typeOfLevel': 'meanSea'}\n    filter_by_keys={'typeOfLevel': 'hybrid'}\n    filter_by_keys={'typeOfLevel': 'atmosphere'}\n    filter_by_keys={'typeOfLevel': 'surface'}\n    filter_by_keys={'typeOfLevel': 'planetaryBoundaryLayer'}\n    filter_by_keys={'typeOfLevel': 'isobaricInPa'}\n    filter_by_keys={'typeOfLevel': 'isobaricInhPa'}\n    filter_by_keys={'typeOfLevel': 'heightAboveGround'}\n    filter_by_keys={'typeOfLevel': 'depthBelowLandLayer'}\n    filter_by_keys={'typeOfLevel': 'heightAboveSea'}\n    filter_by_keys={'typeOfLevel': 'atmosphereSingleLayer'}\n    filter_by_keys={'typeOfLevel': 'lowCloudLayer'}\n    filter_by_keys={'typeOfLevel': 'middleCloudLayer'}\n    filter_by_keys={'typeOfLevel': 'highCloudLayer'}\n    filter_by_keys={'typeOfLevel': 'cloudCeiling'}\n    filter_by_keys={'typeOfLevel': 'convectiveCloudBottom'}\n    filter_by_keys={'typeOfLevel': 'lowCloudBottom'}\n    filter_by_keys={'typeOfLevel': 'middleCloudBottom'}\n    filter_by_keys={'typeOfLevel': 'highCloudBottom'}\n    filter_by_keys={'typeOfLevel': 'convectiveCloudTop'}\n    filter_by_keys={'typeOfLevel': 'lowCloudTop'}\n    filter_by_keys={'typeOfLevel': 'middleCloudTop'}\n    filter_by_keys={'typeOfLevel': 'highCloudTop'}\n    filter_by_keys={'typeOfLevel': 'convectiveCloudLayer'}\n    filter_by_keys={'typeOfLevel': 'boundaryLayerCloudLayer'}\n    filter_by_keys={'typeOfLevel': 'nominalTop'}\n    filter_by_keys={'typeOfLevel': 'heightAboveGroundLayer'}\n    filter_by_keys={'typeOfLevel': 'tropopause'}\n    filter_by_keys={'typeOfLevel': 'maxWind'}\n    filter_by_keys={'typeOfLevel': 'isothermZero'}\n    filter_by_keys={'typeOfLevel': 'highestTroposphericFreezing'}\n    filter_by_keys={'typeOfLevel': 'pressureFromGroundLayer'}\n    filter_by_keys={'typeOfLevel': 'sigmaLayer'}\n    filter_by_keys={'typeOfLevel': 'sigma'}\n    filter_by_keys={'typeOfLevel': 'potentialVorticity'}"
     ]
    }
   ],
   "source": [
    "import xarray as xr\n",
    "\n",
    "\n",
    "# GRIB 파일 경로 설정\n",
    "grib_file_path = 'gfs.0p25.2024011406.f037.grib2'\n",
    "\n",
    "# xarray.open_dataset을 사용하여 GRIB 파일 열기\n",
    "ds = xr.open_dataset(grib_file_path, engine='cfgrib')\n",
    "\n",
    "print(ds)"
   ],
   "metadata": {
    "collapsed": false,
    "ExecuteTime": {
     "end_time": "2024-01-24T00:44:20.161315Z",
     "start_time": "2024-01-24T00:44:20.010857Z"
    }
   },
   "id": "3768fd8da56e29e",
   "execution_count": 18
  },
  {
   "cell_type": "code",
   "outputs": [
    {
     "name": "stderr",
     "output_type": "stream",
     "text": [
      "skipping variable: paramId==228164 shortName='tcc'\n",
      "Traceback (most recent call last):\n",
      "  File \"/Users/isangdae/miniforge3/envs/sdlee_test/lib/python3.11/site-packages/cfgrib/dataset.py\", line 680, in build_dataset_components\n",
      "    dict_merge(variables, coord_vars)\n",
      "  File \"/Users/isangdae/miniforge3/envs/sdlee_test/lib/python3.11/site-packages/cfgrib/dataset.py\", line 611, in dict_merge\n",
      "    raise DatasetBuildError(\n",
      "cfgrib.dataset.DatasetBuildError: key present and new value is different: key='isobaricInhPa' value=Variable(dimensions=('isobaricInhPa',), data=array([1000.,  975.,  950.,  925.,  900.,  850.,  800.,  750.,  700.,\n",
      "        650.,  600.,  550.,  500.,  450.,  400.,  350.,  300.,  250.,\n",
      "        200.,  150.,  100.,   70.,   50.,   40.,   30.,   20.,   15.,\n",
      "         10.,    7.,    5.,    3.,    2.,    1.])) new_value=Variable(dimensions=('isobaricInhPa',), data=array([1000.,  975.,  950.,  925.,  900.,  850.,  800.,  750.,  700.,\n",
      "        650.,  600.,  550.,  500.,  450.,  400.,  350.,  300.,  250.,\n",
      "        200.,  150.,  100.,   50.]))\n",
      "skipping variable: paramId==260018 shortName='clwmr'\n",
      "Traceback (most recent call last):\n",
      "  File \"/Users/isangdae/miniforge3/envs/sdlee_test/lib/python3.11/site-packages/cfgrib/dataset.py\", line 680, in build_dataset_components\n",
      "    dict_merge(variables, coord_vars)\n",
      "  File \"/Users/isangdae/miniforge3/envs/sdlee_test/lib/python3.11/site-packages/cfgrib/dataset.py\", line 611, in dict_merge\n",
      "    raise DatasetBuildError(\n",
      "cfgrib.dataset.DatasetBuildError: key present and new value is different: key='isobaricInhPa' value=Variable(dimensions=('isobaricInhPa',), data=array([1000.,  975.,  950.,  925.,  900.,  850.,  800.,  750.,  700.,\n",
      "        650.,  600.,  550.,  500.,  450.,  400.,  350.,  300.,  250.,\n",
      "        200.,  150.,  100.,   70.,   50.,   40.,   30.,   20.,   15.,\n",
      "         10.,    7.,    5.,    3.,    2.,    1.])) new_value=Variable(dimensions=('isobaricInhPa',), data=array([1000.,  975.,  950.,  925.,  900.,  850.,  800.,  750.,  700.,\n",
      "        650.,  600.,  550.,  500.,  450.,  400.,  350.,  300.,  250.,\n",
      "        200.,  150.,  100.,   50.]))\n",
      "skipping variable: paramId==260019 shortName='icmr'\n",
      "Traceback (most recent call last):\n",
      "  File \"/Users/isangdae/miniforge3/envs/sdlee_test/lib/python3.11/site-packages/cfgrib/dataset.py\", line 680, in build_dataset_components\n",
      "    dict_merge(variables, coord_vars)\n",
      "  File \"/Users/isangdae/miniforge3/envs/sdlee_test/lib/python3.11/site-packages/cfgrib/dataset.py\", line 611, in dict_merge\n",
      "    raise DatasetBuildError(\n",
      "cfgrib.dataset.DatasetBuildError: key present and new value is different: key='isobaricInhPa' value=Variable(dimensions=('isobaricInhPa',), data=array([1000.,  975.,  950.,  925.,  900.,  850.,  800.,  750.,  700.,\n",
      "        650.,  600.,  550.,  500.,  450.,  400.,  350.,  300.,  250.,\n",
      "        200.,  150.,  100.,   70.,   50.,   40.,   30.,   20.,   15.,\n",
      "         10.,    7.,    5.,    3.,    2.,    1.])) new_value=Variable(dimensions=('isobaricInhPa',), data=array([1000.,  975.,  950.,  925.,  900.,  850.,  800.,  750.,  700.,\n",
      "        650.,  600.,  550.,  500.,  450.,  400.,  350.,  300.,  250.,\n",
      "        200.,  150.,  100.,   50.]))\n",
      "skipping variable: paramId==260020 shortName='rwmr'\n",
      "Traceback (most recent call last):\n",
      "  File \"/Users/isangdae/miniforge3/envs/sdlee_test/lib/python3.11/site-packages/cfgrib/dataset.py\", line 680, in build_dataset_components\n",
      "    dict_merge(variables, coord_vars)\n",
      "  File \"/Users/isangdae/miniforge3/envs/sdlee_test/lib/python3.11/site-packages/cfgrib/dataset.py\", line 611, in dict_merge\n",
      "    raise DatasetBuildError(\n",
      "cfgrib.dataset.DatasetBuildError: key present and new value is different: key='isobaricInhPa' value=Variable(dimensions=('isobaricInhPa',), data=array([1000.,  975.,  950.,  925.,  900.,  850.,  800.,  750.,  700.,\n",
      "        650.,  600.,  550.,  500.,  450.,  400.,  350.,  300.,  250.,\n",
      "        200.,  150.,  100.,   70.,   50.,   40.,   30.,   20.,   15.,\n",
      "         10.,    7.,    5.,    3.,    2.,    1.])) new_value=Variable(dimensions=('isobaricInhPa',), data=array([1000.,  975.,  950.,  925.,  900.,  850.,  800.,  750.,  700.,\n",
      "        650.,  600.,  550.,  500.,  450.,  400.,  350.,  300.,  250.,\n",
      "        200.,  150.,  100.,   50.]))\n",
      "skipping variable: paramId==260021 shortName='snmr'\n",
      "Traceback (most recent call last):\n",
      "  File \"/Users/isangdae/miniforge3/envs/sdlee_test/lib/python3.11/site-packages/cfgrib/dataset.py\", line 680, in build_dataset_components\n",
      "    dict_merge(variables, coord_vars)\n",
      "  File \"/Users/isangdae/miniforge3/envs/sdlee_test/lib/python3.11/site-packages/cfgrib/dataset.py\", line 611, in dict_merge\n",
      "    raise DatasetBuildError(\n",
      "cfgrib.dataset.DatasetBuildError: key present and new value is different: key='isobaricInhPa' value=Variable(dimensions=('isobaricInhPa',), data=array([1000.,  975.,  950.,  925.,  900.,  850.,  800.,  750.,  700.,\n",
      "        650.,  600.,  550.,  500.,  450.,  400.,  350.,  300.,  250.,\n",
      "        200.,  150.,  100.,   70.,   50.,   40.,   30.,   20.,   15.,\n",
      "         10.,    7.,    5.,    3.,    2.,    1.])) new_value=Variable(dimensions=('isobaricInhPa',), data=array([1000.,  975.,  950.,  925.,  900.,  850.,  800.,  750.,  700.,\n",
      "        650.,  600.,  550.,  500.,  450.,  400.,  350.,  300.,  250.,\n",
      "        200.,  150.,  100.,   50.]))\n",
      "skipping variable: paramId==260028 shortName='grle'\n",
      "Traceback (most recent call last):\n",
      "  File \"/Users/isangdae/miniforge3/envs/sdlee_test/lib/python3.11/site-packages/cfgrib/dataset.py\", line 680, in build_dataset_components\n",
      "    dict_merge(variables, coord_vars)\n",
      "  File \"/Users/isangdae/miniforge3/envs/sdlee_test/lib/python3.11/site-packages/cfgrib/dataset.py\", line 611, in dict_merge\n",
      "    raise DatasetBuildError(\n",
      "cfgrib.dataset.DatasetBuildError: key present and new value is different: key='isobaricInhPa' value=Variable(dimensions=('isobaricInhPa',), data=array([1000.,  975.,  950.,  925.,  900.,  850.,  800.,  750.,  700.,\n",
      "        650.,  600.,  550.,  500.,  450.,  400.,  350.,  300.,  250.,\n",
      "        200.,  150.,  100.,   70.,   50.,   40.,   30.,   20.,   15.,\n",
      "         10.,    7.,    5.,    3.,    2.,    1.])) new_value=Variable(dimensions=('isobaricInhPa',), data=array([1000.,  975.,  950.,  925.,  900.,  850.,  800.,  750.,  700.,\n",
      "        650.,  600.,  550.,  500.,  450.,  400.,  350.,  300.,  250.,\n",
      "        200.,  150.,  100.,   50.]))\n"
     ]
    },
    {
     "name": "stdout",
     "output_type": "stream",
     "text": [
      "<xarray.Dataset>\n",
      "Dimensions:        (isobaricInhPa: 33, latitude: 41, longitude: 37)\n",
      "Coordinates:\n",
      "    time           datetime64[ns] ...\n",
      "    step           timedelta64[ns] ...\n",
      "  * isobaricInhPa  (isobaricInhPa) float64 1e+03 975.0 950.0 ... 3.0 2.0 1.0\n",
      "  * latitude       (latitude) float64 30.0 30.25 30.5 30.75 ... 39.5 39.75 40.0\n",
      "  * longitude      (longitude) float64 123.0 123.2 123.5 ... 131.5 131.8 132.0\n",
      "    valid_time     datetime64[ns] ...\n",
      "Data variables:\n",
      "    gh             (isobaricInhPa, latitude, longitude) float32 ...\n",
      "    t              (isobaricInhPa, latitude, longitude) float32 ...\n",
      "    r              (isobaricInhPa, latitude, longitude) float32 ...\n",
      "    q              (isobaricInhPa, latitude, longitude) float32 ...\n",
      "    w              (isobaricInhPa, latitude, longitude) float32 ...\n",
      "    wz             (isobaricInhPa, latitude, longitude) float32 ...\n",
      "    u              (isobaricInhPa, latitude, longitude) float32 ...\n",
      "    v              (isobaricInhPa, latitude, longitude) float32 ...\n",
      "    absv           (isobaricInhPa, latitude, longitude) float32 ...\n",
      "    o3mr           (isobaricInhPa, latitude, longitude) float32 ...\n",
      "Attributes:\n",
      "    GRIB_edition:            2\n",
      "    GRIB_centre:             kwbc\n",
      "    GRIB_centreDescription:  US National Weather Service - NCEP\n",
      "    GRIB_subCentre:          0\n",
      "    Conventions:             CF-1.7\n",
      "    institution:             US National Weather Service - NCEP\n",
      "    history:                 2024-01-24T09:45 GRIB to CDM+CF via cfgrib-0.9.1...\n"
     ]
    }
   ],
   "source": [
    "import xarray as xr\n",
    "\n",
    "\n",
    "# GRIB 파일 경로 설정\n",
    "grib_file_path = 'gfs.0p25.2024011406.f037.grib2'\n",
    "\n",
    "# xarray.open_dataset을 사용하여 GRIB 파일 열기\n",
    "ds = xr.open_dataset(grib_file_path, engine='cfgrib',filter_by_keys={'typeOfLevel': 'isobaricInhPa'})\n",
    "\n",
    "print(ds)"
   ],
   "metadata": {
    "collapsed": false,
    "ExecuteTime": {
     "end_time": "2024-01-24T00:45:01.843495Z",
     "start_time": "2024-01-24T00:45:01.809576Z"
    }
   },
   "id": "f99dac1049c02e3e",
   "execution_count": 19
  },
  {
   "cell_type": "code",
   "outputs": [
    {
     "name": "stdout",
     "output_type": "stream",
     "text": [
      "<xarray.Dataset>\n",
      "Dimensions:            (latitude: 41, longitude: 37)\n",
      "Coordinates:\n",
      "    time               datetime64[ns] ...\n",
      "    step               timedelta64[ns] ...\n",
      "    heightAboveGround  float64 ...\n",
      "  * latitude           (latitude) float64 30.0 30.25 30.5 ... 39.5 39.75 40.0\n",
      "  * longitude          (longitude) float64 123.0 123.2 123.5 ... 131.8 132.0\n",
      "    valid_time         datetime64[ns] ...\n",
      "Data variables:\n",
      "    u10                (latitude, longitude) float32 ...\n",
      "    v10                (latitude, longitude) float32 ...\n",
      "Attributes:\n",
      "    GRIB_edition:            2\n",
      "    GRIB_centre:             kwbc\n",
      "    GRIB_centreDescription:  US National Weather Service - NCEP\n",
      "    GRIB_subCentre:          0\n",
      "    Conventions:             CF-1.7\n",
      "    institution:             US National Weather Service - NCEP\n",
      "    history:                 2024-01-24T09:45 GRIB to CDM+CF via cfgrib-0.9.1...\n"
     ]
    }
   ],
   "source": [
    "import xarray as xr\n",
    "\n",
    "\n",
    "# GRIB 파일 경로 설정\n",
    "grib_file_path = 'gfs.0p25.2024011406.f037.grib2'\n",
    "\n",
    "# xarray.open_dataset을 사용하여 GRIB 파일 열기\n",
    "ds = xr.open_dataset(grib_file_path, engine='cfgrib',filter_by_keys={'typeOfLevel': 'heightAboveGround', 'level':10})\n",
    "\n",
    "print(ds)"
   ],
   "metadata": {
    "collapsed": false,
    "ExecuteTime": {
     "end_time": "2024-01-24T00:45:20.837292Z",
     "start_time": "2024-01-24T00:45:20.822746Z"
    }
   },
   "id": "9491c7032b208fbc",
   "execution_count": 20
  },
  {
   "cell_type": "code",
   "outputs": [],
   "source": [],
   "metadata": {
    "collapsed": false
   },
   "id": "a7d6661e6d8ed76"
  }
 ],
 "metadata": {
  "kernelspec": {
   "display_name": "Python 3",
   "language": "python",
   "name": "python3"
  },
  "language_info": {
   "codemirror_mode": {
    "name": "ipython",
    "version": 2
   },
   "file_extension": ".py",
   "mimetype": "text/x-python",
   "name": "python",
   "nbconvert_exporter": "python",
   "pygments_lexer": "ipython2",
   "version": "2.7.6"
  }
 },
 "nbformat": 4,
 "nbformat_minor": 5
}
